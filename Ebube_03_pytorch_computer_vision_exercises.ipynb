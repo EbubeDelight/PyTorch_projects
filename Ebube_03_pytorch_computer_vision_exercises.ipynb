{
  "nbformat": 4,
  "nbformat_minor": 0,
  "metadata": {
    "colab": {
      "provenance": [],
      "include_colab_link": true
    },
    "kernelspec": {
      "name": "python3",
      "display_name": "Python 3"
    },
    "language_info": {
      "name": "python"
    },
    "accelerator": "GPU",
    "widgets": {
      "application/vnd.jupyter.widget-state+json": {
        "4f09ece68952484ca1618d068d5fbdb4": {
          "model_module": "@jupyter-widgets/controls",
          "model_name": "HBoxModel",
          "model_module_version": "1.5.0",
          "state": {
            "_dom_classes": [],
            "_model_module": "@jupyter-widgets/controls",
            "_model_module_version": "1.5.0",
            "_model_name": "HBoxModel",
            "_view_count": null,
            "_view_module": "@jupyter-widgets/controls",
            "_view_module_version": "1.5.0",
            "_view_name": "HBoxView",
            "box_style": "",
            "children": [
              "IPY_MODEL_528ec532de514ffaae0c47e436dc9fc0",
              "IPY_MODEL_1a03d86dc2b1490cbb66eea7d4092100",
              "IPY_MODEL_94a190e4098041f3819ace7bf91d4eed"
            ],
            "layout": "IPY_MODEL_7ee481dbf134429e8a47e3ca42beb8a9"
          }
        },
        "528ec532de514ffaae0c47e436dc9fc0": {
          "model_module": "@jupyter-widgets/controls",
          "model_name": "HTMLModel",
          "model_module_version": "1.5.0",
          "state": {
            "_dom_classes": [],
            "_model_module": "@jupyter-widgets/controls",
            "_model_module_version": "1.5.0",
            "_model_name": "HTMLModel",
            "_view_count": null,
            "_view_module": "@jupyter-widgets/controls",
            "_view_module_version": "1.5.0",
            "_view_name": "HTMLView",
            "description": "",
            "description_tooltip": null,
            "layout": "IPY_MODEL_0563fb6435654b8a9ee57ccf41261135",
            "placeholder": "​",
            "style": "IPY_MODEL_c79043818f7b42f696bb26fc1be25dd4",
            "value": "100%"
          }
        },
        "1a03d86dc2b1490cbb66eea7d4092100": {
          "model_module": "@jupyter-widgets/controls",
          "model_name": "FloatProgressModel",
          "model_module_version": "1.5.0",
          "state": {
            "_dom_classes": [],
            "_model_module": "@jupyter-widgets/controls",
            "_model_module_version": "1.5.0",
            "_model_name": "FloatProgressModel",
            "_view_count": null,
            "_view_module": "@jupyter-widgets/controls",
            "_view_module_version": "1.5.0",
            "_view_name": "ProgressView",
            "bar_style": "success",
            "description": "",
            "description_tooltip": null,
            "layout": "IPY_MODEL_9978645f6d5f40dc99145bb4e8e1f0d6",
            "max": 5,
            "min": 0,
            "orientation": "horizontal",
            "style": "IPY_MODEL_6df86739cd7b4355ba6978d5a8ca4269",
            "value": 5
          }
        },
        "94a190e4098041f3819ace7bf91d4eed": {
          "model_module": "@jupyter-widgets/controls",
          "model_name": "HTMLModel",
          "model_module_version": "1.5.0",
          "state": {
            "_dom_classes": [],
            "_model_module": "@jupyter-widgets/controls",
            "_model_module_version": "1.5.0",
            "_model_name": "HTMLModel",
            "_view_count": null,
            "_view_module": "@jupyter-widgets/controls",
            "_view_module_version": "1.5.0",
            "_view_name": "HTMLView",
            "description": "",
            "description_tooltip": null,
            "layout": "IPY_MODEL_b1c6dba86aff4742b7ca2c43d6dd1abc",
            "placeholder": "​",
            "style": "IPY_MODEL_b97c98471199442abf020bf6d5fdb8de",
            "value": " 5/5 [04:55&lt;00:00, 58.19s/it]"
          }
        },
        "7ee481dbf134429e8a47e3ca42beb8a9": {
          "model_module": "@jupyter-widgets/base",
          "model_name": "LayoutModel",
          "model_module_version": "1.2.0",
          "state": {
            "_model_module": "@jupyter-widgets/base",
            "_model_module_version": "1.2.0",
            "_model_name": "LayoutModel",
            "_view_count": null,
            "_view_module": "@jupyter-widgets/base",
            "_view_module_version": "1.2.0",
            "_view_name": "LayoutView",
            "align_content": null,
            "align_items": null,
            "align_self": null,
            "border": null,
            "bottom": null,
            "display": null,
            "flex": null,
            "flex_flow": null,
            "grid_area": null,
            "grid_auto_columns": null,
            "grid_auto_flow": null,
            "grid_auto_rows": null,
            "grid_column": null,
            "grid_gap": null,
            "grid_row": null,
            "grid_template_areas": null,
            "grid_template_columns": null,
            "grid_template_rows": null,
            "height": null,
            "justify_content": null,
            "justify_items": null,
            "left": null,
            "margin": null,
            "max_height": null,
            "max_width": null,
            "min_height": null,
            "min_width": null,
            "object_fit": null,
            "object_position": null,
            "order": null,
            "overflow": null,
            "overflow_x": null,
            "overflow_y": null,
            "padding": null,
            "right": null,
            "top": null,
            "visibility": null,
            "width": null
          }
        },
        "0563fb6435654b8a9ee57ccf41261135": {
          "model_module": "@jupyter-widgets/base",
          "model_name": "LayoutModel",
          "model_module_version": "1.2.0",
          "state": {
            "_model_module": "@jupyter-widgets/base",
            "_model_module_version": "1.2.0",
            "_model_name": "LayoutModel",
            "_view_count": null,
            "_view_module": "@jupyter-widgets/base",
            "_view_module_version": "1.2.0",
            "_view_name": "LayoutView",
            "align_content": null,
            "align_items": null,
            "align_self": null,
            "border": null,
            "bottom": null,
            "display": null,
            "flex": null,
            "flex_flow": null,
            "grid_area": null,
            "grid_auto_columns": null,
            "grid_auto_flow": null,
            "grid_auto_rows": null,
            "grid_column": null,
            "grid_gap": null,
            "grid_row": null,
            "grid_template_areas": null,
            "grid_template_columns": null,
            "grid_template_rows": null,
            "height": null,
            "justify_content": null,
            "justify_items": null,
            "left": null,
            "margin": null,
            "max_height": null,
            "max_width": null,
            "min_height": null,
            "min_width": null,
            "object_fit": null,
            "object_position": null,
            "order": null,
            "overflow": null,
            "overflow_x": null,
            "overflow_y": null,
            "padding": null,
            "right": null,
            "top": null,
            "visibility": null,
            "width": null
          }
        },
        "c79043818f7b42f696bb26fc1be25dd4": {
          "model_module": "@jupyter-widgets/controls",
          "model_name": "DescriptionStyleModel",
          "model_module_version": "1.5.0",
          "state": {
            "_model_module": "@jupyter-widgets/controls",
            "_model_module_version": "1.5.0",
            "_model_name": "DescriptionStyleModel",
            "_view_count": null,
            "_view_module": "@jupyter-widgets/base",
            "_view_module_version": "1.2.0",
            "_view_name": "StyleView",
            "description_width": ""
          }
        },
        "9978645f6d5f40dc99145bb4e8e1f0d6": {
          "model_module": "@jupyter-widgets/base",
          "model_name": "LayoutModel",
          "model_module_version": "1.2.0",
          "state": {
            "_model_module": "@jupyter-widgets/base",
            "_model_module_version": "1.2.0",
            "_model_name": "LayoutModel",
            "_view_count": null,
            "_view_module": "@jupyter-widgets/base",
            "_view_module_version": "1.2.0",
            "_view_name": "LayoutView",
            "align_content": null,
            "align_items": null,
            "align_self": null,
            "border": null,
            "bottom": null,
            "display": null,
            "flex": null,
            "flex_flow": null,
            "grid_area": null,
            "grid_auto_columns": null,
            "grid_auto_flow": null,
            "grid_auto_rows": null,
            "grid_column": null,
            "grid_gap": null,
            "grid_row": null,
            "grid_template_areas": null,
            "grid_template_columns": null,
            "grid_template_rows": null,
            "height": null,
            "justify_content": null,
            "justify_items": null,
            "left": null,
            "margin": null,
            "max_height": null,
            "max_width": null,
            "min_height": null,
            "min_width": null,
            "object_fit": null,
            "object_position": null,
            "order": null,
            "overflow": null,
            "overflow_x": null,
            "overflow_y": null,
            "padding": null,
            "right": null,
            "top": null,
            "visibility": null,
            "width": null
          }
        },
        "6df86739cd7b4355ba6978d5a8ca4269": {
          "model_module": "@jupyter-widgets/controls",
          "model_name": "ProgressStyleModel",
          "model_module_version": "1.5.0",
          "state": {
            "_model_module": "@jupyter-widgets/controls",
            "_model_module_version": "1.5.0",
            "_model_name": "ProgressStyleModel",
            "_view_count": null,
            "_view_module": "@jupyter-widgets/base",
            "_view_module_version": "1.2.0",
            "_view_name": "StyleView",
            "bar_color": null,
            "description_width": ""
          }
        },
        "b1c6dba86aff4742b7ca2c43d6dd1abc": {
          "model_module": "@jupyter-widgets/base",
          "model_name": "LayoutModel",
          "model_module_version": "1.2.0",
          "state": {
            "_model_module": "@jupyter-widgets/base",
            "_model_module_version": "1.2.0",
            "_model_name": "LayoutModel",
            "_view_count": null,
            "_view_module": "@jupyter-widgets/base",
            "_view_module_version": "1.2.0",
            "_view_name": "LayoutView",
            "align_content": null,
            "align_items": null,
            "align_self": null,
            "border": null,
            "bottom": null,
            "display": null,
            "flex": null,
            "flex_flow": null,
            "grid_area": null,
            "grid_auto_columns": null,
            "grid_auto_flow": null,
            "grid_auto_rows": null,
            "grid_column": null,
            "grid_gap": null,
            "grid_row": null,
            "grid_template_areas": null,
            "grid_template_columns": null,
            "grid_template_rows": null,
            "height": null,
            "justify_content": null,
            "justify_items": null,
            "left": null,
            "margin": null,
            "max_height": null,
            "max_width": null,
            "min_height": null,
            "min_width": null,
            "object_fit": null,
            "object_position": null,
            "order": null,
            "overflow": null,
            "overflow_x": null,
            "overflow_y": null,
            "padding": null,
            "right": null,
            "top": null,
            "visibility": null,
            "width": null
          }
        },
        "b97c98471199442abf020bf6d5fdb8de": {
          "model_module": "@jupyter-widgets/controls",
          "model_name": "DescriptionStyleModel",
          "model_module_version": "1.5.0",
          "state": {
            "_model_module": "@jupyter-widgets/controls",
            "_model_module_version": "1.5.0",
            "_model_name": "DescriptionStyleModel",
            "_view_count": null,
            "_view_module": "@jupyter-widgets/base",
            "_view_module_version": "1.2.0",
            "_view_name": "StyleView",
            "description_width": ""
          }
        },
        "04b175927c13415dbd0a54b7bb6df518": {
          "model_module": "@jupyter-widgets/controls",
          "model_name": "HBoxModel",
          "model_module_version": "1.5.0",
          "state": {
            "_dom_classes": [],
            "_model_module": "@jupyter-widgets/controls",
            "_model_module_version": "1.5.0",
            "_model_name": "HBoxModel",
            "_view_count": null,
            "_view_module": "@jupyter-widgets/controls",
            "_view_module_version": "1.5.0",
            "_view_name": "HBoxView",
            "box_style": "",
            "children": [
              "IPY_MODEL_09a1a2595b8945faabf3f057aeaf46ec",
              "IPY_MODEL_e04ffa169d2e4a1cbc6b1d0670c3ae06",
              "IPY_MODEL_c39b4aeaba6c4581a1c8e819403d7dc0"
            ],
            "layout": "IPY_MODEL_e8a434c3209648b6956a4989f25b39c5"
          }
        },
        "09a1a2595b8945faabf3f057aeaf46ec": {
          "model_module": "@jupyter-widgets/controls",
          "model_name": "HTMLModel",
          "model_module_version": "1.5.0",
          "state": {
            "_dom_classes": [],
            "_model_module": "@jupyter-widgets/controls",
            "_model_module_version": "1.5.0",
            "_model_name": "HTMLModel",
            "_view_count": null,
            "_view_module": "@jupyter-widgets/controls",
            "_view_module_version": "1.5.0",
            "_view_name": "HTMLView",
            "description": "",
            "description_tooltip": null,
            "layout": "IPY_MODEL_89161c71c5fa492894498fb91017bdc0",
            "placeholder": "​",
            "style": "IPY_MODEL_d132b28bb63844869287d47eafcbdb7c",
            "value": "Making predictions...: 100%"
          }
        },
        "e04ffa169d2e4a1cbc6b1d0670c3ae06": {
          "model_module": "@jupyter-widgets/controls",
          "model_name": "FloatProgressModel",
          "model_module_version": "1.5.0",
          "state": {
            "_dom_classes": [],
            "_model_module": "@jupyter-widgets/controls",
            "_model_module_version": "1.5.0",
            "_model_name": "FloatProgressModel",
            "_view_count": null,
            "_view_module": "@jupyter-widgets/controls",
            "_view_module_version": "1.5.0",
            "_view_name": "ProgressView",
            "bar_style": "success",
            "description": "",
            "description_tooltip": null,
            "layout": "IPY_MODEL_98c93f59243b48c9bf3b19998881a250",
            "max": 313,
            "min": 0,
            "orientation": "horizontal",
            "style": "IPY_MODEL_82580b8d43334b308f53e805240a6a80",
            "value": 313
          }
        },
        "c39b4aeaba6c4581a1c8e819403d7dc0": {
          "model_module": "@jupyter-widgets/controls",
          "model_name": "HTMLModel",
          "model_module_version": "1.5.0",
          "state": {
            "_dom_classes": [],
            "_model_module": "@jupyter-widgets/controls",
            "_model_module_version": "1.5.0",
            "_model_name": "HTMLModel",
            "_view_count": null,
            "_view_module": "@jupyter-widgets/controls",
            "_view_module_version": "1.5.0",
            "_view_name": "HTMLView",
            "description": "",
            "description_tooltip": null,
            "layout": "IPY_MODEL_385766e1aa01450baa303c7bf73941e9",
            "placeholder": "​",
            "style": "IPY_MODEL_9c70839736d1480691f1a565770df30a",
            "value": " 313/313 [00:04&lt;00:00, 53.51it/s]"
          }
        },
        "e8a434c3209648b6956a4989f25b39c5": {
          "model_module": "@jupyter-widgets/base",
          "model_name": "LayoutModel",
          "model_module_version": "1.2.0",
          "state": {
            "_model_module": "@jupyter-widgets/base",
            "_model_module_version": "1.2.0",
            "_model_name": "LayoutModel",
            "_view_count": null,
            "_view_module": "@jupyter-widgets/base",
            "_view_module_version": "1.2.0",
            "_view_name": "LayoutView",
            "align_content": null,
            "align_items": null,
            "align_self": null,
            "border": null,
            "bottom": null,
            "display": null,
            "flex": null,
            "flex_flow": null,
            "grid_area": null,
            "grid_auto_columns": null,
            "grid_auto_flow": null,
            "grid_auto_rows": null,
            "grid_column": null,
            "grid_gap": null,
            "grid_row": null,
            "grid_template_areas": null,
            "grid_template_columns": null,
            "grid_template_rows": null,
            "height": null,
            "justify_content": null,
            "justify_items": null,
            "left": null,
            "margin": null,
            "max_height": null,
            "max_width": null,
            "min_height": null,
            "min_width": null,
            "object_fit": null,
            "object_position": null,
            "order": null,
            "overflow": null,
            "overflow_x": null,
            "overflow_y": null,
            "padding": null,
            "right": null,
            "top": null,
            "visibility": null,
            "width": null
          }
        },
        "89161c71c5fa492894498fb91017bdc0": {
          "model_module": "@jupyter-widgets/base",
          "model_name": "LayoutModel",
          "model_module_version": "1.2.0",
          "state": {
            "_model_module": "@jupyter-widgets/base",
            "_model_module_version": "1.2.0",
            "_model_name": "LayoutModel",
            "_view_count": null,
            "_view_module": "@jupyter-widgets/base",
            "_view_module_version": "1.2.0",
            "_view_name": "LayoutView",
            "align_content": null,
            "align_items": null,
            "align_self": null,
            "border": null,
            "bottom": null,
            "display": null,
            "flex": null,
            "flex_flow": null,
            "grid_area": null,
            "grid_auto_columns": null,
            "grid_auto_flow": null,
            "grid_auto_rows": null,
            "grid_column": null,
            "grid_gap": null,
            "grid_row": null,
            "grid_template_areas": null,
            "grid_template_columns": null,
            "grid_template_rows": null,
            "height": null,
            "justify_content": null,
            "justify_items": null,
            "left": null,
            "margin": null,
            "max_height": null,
            "max_width": null,
            "min_height": null,
            "min_width": null,
            "object_fit": null,
            "object_position": null,
            "order": null,
            "overflow": null,
            "overflow_x": null,
            "overflow_y": null,
            "padding": null,
            "right": null,
            "top": null,
            "visibility": null,
            "width": null
          }
        },
        "d132b28bb63844869287d47eafcbdb7c": {
          "model_module": "@jupyter-widgets/controls",
          "model_name": "DescriptionStyleModel",
          "model_module_version": "1.5.0",
          "state": {
            "_model_module": "@jupyter-widgets/controls",
            "_model_module_version": "1.5.0",
            "_model_name": "DescriptionStyleModel",
            "_view_count": null,
            "_view_module": "@jupyter-widgets/base",
            "_view_module_version": "1.2.0",
            "_view_name": "StyleView",
            "description_width": ""
          }
        },
        "98c93f59243b48c9bf3b19998881a250": {
          "model_module": "@jupyter-widgets/base",
          "model_name": "LayoutModel",
          "model_module_version": "1.2.0",
          "state": {
            "_model_module": "@jupyter-widgets/base",
            "_model_module_version": "1.2.0",
            "_model_name": "LayoutModel",
            "_view_count": null,
            "_view_module": "@jupyter-widgets/base",
            "_view_module_version": "1.2.0",
            "_view_name": "LayoutView",
            "align_content": null,
            "align_items": null,
            "align_self": null,
            "border": null,
            "bottom": null,
            "display": null,
            "flex": null,
            "flex_flow": null,
            "grid_area": null,
            "grid_auto_columns": null,
            "grid_auto_flow": null,
            "grid_auto_rows": null,
            "grid_column": null,
            "grid_gap": null,
            "grid_row": null,
            "grid_template_areas": null,
            "grid_template_columns": null,
            "grid_template_rows": null,
            "height": null,
            "justify_content": null,
            "justify_items": null,
            "left": null,
            "margin": null,
            "max_height": null,
            "max_width": null,
            "min_height": null,
            "min_width": null,
            "object_fit": null,
            "object_position": null,
            "order": null,
            "overflow": null,
            "overflow_x": null,
            "overflow_y": null,
            "padding": null,
            "right": null,
            "top": null,
            "visibility": null,
            "width": null
          }
        },
        "82580b8d43334b308f53e805240a6a80": {
          "model_module": "@jupyter-widgets/controls",
          "model_name": "ProgressStyleModel",
          "model_module_version": "1.5.0",
          "state": {
            "_model_module": "@jupyter-widgets/controls",
            "_model_module_version": "1.5.0",
            "_model_name": "ProgressStyleModel",
            "_view_count": null,
            "_view_module": "@jupyter-widgets/base",
            "_view_module_version": "1.2.0",
            "_view_name": "StyleView",
            "bar_color": null,
            "description_width": ""
          }
        },
        "385766e1aa01450baa303c7bf73941e9": {
          "model_module": "@jupyter-widgets/base",
          "model_name": "LayoutModel",
          "model_module_version": "1.2.0",
          "state": {
            "_model_module": "@jupyter-widgets/base",
            "_model_module_version": "1.2.0",
            "_model_name": "LayoutModel",
            "_view_count": null,
            "_view_module": "@jupyter-widgets/base",
            "_view_module_version": "1.2.0",
            "_view_name": "LayoutView",
            "align_content": null,
            "align_items": null,
            "align_self": null,
            "border": null,
            "bottom": null,
            "display": null,
            "flex": null,
            "flex_flow": null,
            "grid_area": null,
            "grid_auto_columns": null,
            "grid_auto_flow": null,
            "grid_auto_rows": null,
            "grid_column": null,
            "grid_gap": null,
            "grid_row": null,
            "grid_template_areas": null,
            "grid_template_columns": null,
            "grid_template_rows": null,
            "height": null,
            "justify_content": null,
            "justify_items": null,
            "left": null,
            "margin": null,
            "max_height": null,
            "max_width": null,
            "min_height": null,
            "min_width": null,
            "object_fit": null,
            "object_position": null,
            "order": null,
            "overflow": null,
            "overflow_x": null,
            "overflow_y": null,
            "padding": null,
            "right": null,
            "top": null,
            "visibility": null,
            "width": null
          }
        },
        "9c70839736d1480691f1a565770df30a": {
          "model_module": "@jupyter-widgets/controls",
          "model_name": "DescriptionStyleModel",
          "model_module_version": "1.5.0",
          "state": {
            "_model_module": "@jupyter-widgets/controls",
            "_model_module_version": "1.5.0",
            "_model_name": "DescriptionStyleModel",
            "_view_count": null,
            "_view_module": "@jupyter-widgets/base",
            "_view_module_version": "1.2.0",
            "_view_name": "StyleView",
            "description_width": ""
          }
        },
        "b811d86acb0348eaabb4f51939b69433": {
          "model_module": "@jupyter-widgets/controls",
          "model_name": "HBoxModel",
          "model_module_version": "1.5.0",
          "state": {
            "_dom_classes": [],
            "_model_module": "@jupyter-widgets/controls",
            "_model_module_version": "1.5.0",
            "_model_name": "HBoxModel",
            "_view_count": null,
            "_view_module": "@jupyter-widgets/controls",
            "_view_module_version": "1.5.0",
            "_view_name": "HBoxView",
            "box_style": "",
            "children": [
              "IPY_MODEL_92d6e4f90f234e25a6e796c04aa793d7",
              "IPY_MODEL_16dd800330e54634adfdb476d89b2515",
              "IPY_MODEL_5912178b8673400b9306feb56c8a21f9"
            ],
            "layout": "IPY_MODEL_672ed272388846e6a0eb2e129c1690cd"
          }
        },
        "92d6e4f90f234e25a6e796c04aa793d7": {
          "model_module": "@jupyter-widgets/controls",
          "model_name": "HTMLModel",
          "model_module_version": "1.5.0",
          "state": {
            "_dom_classes": [],
            "_model_module": "@jupyter-widgets/controls",
            "_model_module_version": "1.5.0",
            "_model_name": "HTMLModel",
            "_view_count": null,
            "_view_module": "@jupyter-widgets/controls",
            "_view_module_version": "1.5.0",
            "_view_name": "HTMLView",
            "description": "",
            "description_tooltip": null,
            "layout": "IPY_MODEL_60e9e924e5f2447a8c3f3ef61e88f237",
            "placeholder": "​",
            "style": "IPY_MODEL_42bc84c0d2504bc1a5a6dad752f660ba",
            "value": "100%"
          }
        },
        "16dd800330e54634adfdb476d89b2515": {
          "model_module": "@jupyter-widgets/controls",
          "model_name": "FloatProgressModel",
          "model_module_version": "1.5.0",
          "state": {
            "_dom_classes": [],
            "_model_module": "@jupyter-widgets/controls",
            "_model_module_version": "1.5.0",
            "_model_name": "FloatProgressModel",
            "_view_count": null,
            "_view_module": "@jupyter-widgets/controls",
            "_view_module_version": "1.5.0",
            "_view_name": "ProgressView",
            "bar_style": "success",
            "description": "",
            "description_tooltip": null,
            "layout": "IPY_MODEL_909b14027ce9442b83d34b2319cc1647",
            "max": 5,
            "min": 0,
            "orientation": "horizontal",
            "style": "IPY_MODEL_04724d952d754b5ba27c7dafb976ffd5",
            "value": 5
          }
        },
        "5912178b8673400b9306feb56c8a21f9": {
          "model_module": "@jupyter-widgets/controls",
          "model_name": "HTMLModel",
          "model_module_version": "1.5.0",
          "state": {
            "_dom_classes": [],
            "_model_module": "@jupyter-widgets/controls",
            "_model_module_version": "1.5.0",
            "_model_name": "HTMLModel",
            "_view_count": null,
            "_view_module": "@jupyter-widgets/controls",
            "_view_module_version": "1.5.0",
            "_view_name": "HTMLView",
            "description": "",
            "description_tooltip": null,
            "layout": "IPY_MODEL_6cee7e7d633b4c7886e3fc5a66c14d95",
            "placeholder": "​",
            "style": "IPY_MODEL_f81560501e8f48948365d75380b13452",
            "value": " 5/5 [04:59&lt;00:00, 60.37s/it]"
          }
        },
        "672ed272388846e6a0eb2e129c1690cd": {
          "model_module": "@jupyter-widgets/base",
          "model_name": "LayoutModel",
          "model_module_version": "1.2.0",
          "state": {
            "_model_module": "@jupyter-widgets/base",
            "_model_module_version": "1.2.0",
            "_model_name": "LayoutModel",
            "_view_count": null,
            "_view_module": "@jupyter-widgets/base",
            "_view_module_version": "1.2.0",
            "_view_name": "LayoutView",
            "align_content": null,
            "align_items": null,
            "align_self": null,
            "border": null,
            "bottom": null,
            "display": null,
            "flex": null,
            "flex_flow": null,
            "grid_area": null,
            "grid_auto_columns": null,
            "grid_auto_flow": null,
            "grid_auto_rows": null,
            "grid_column": null,
            "grid_gap": null,
            "grid_row": null,
            "grid_template_areas": null,
            "grid_template_columns": null,
            "grid_template_rows": null,
            "height": null,
            "justify_content": null,
            "justify_items": null,
            "left": null,
            "margin": null,
            "max_height": null,
            "max_width": null,
            "min_height": null,
            "min_width": null,
            "object_fit": null,
            "object_position": null,
            "order": null,
            "overflow": null,
            "overflow_x": null,
            "overflow_y": null,
            "padding": null,
            "right": null,
            "top": null,
            "visibility": null,
            "width": null
          }
        },
        "60e9e924e5f2447a8c3f3ef61e88f237": {
          "model_module": "@jupyter-widgets/base",
          "model_name": "LayoutModel",
          "model_module_version": "1.2.0",
          "state": {
            "_model_module": "@jupyter-widgets/base",
            "_model_module_version": "1.2.0",
            "_model_name": "LayoutModel",
            "_view_count": null,
            "_view_module": "@jupyter-widgets/base",
            "_view_module_version": "1.2.0",
            "_view_name": "LayoutView",
            "align_content": null,
            "align_items": null,
            "align_self": null,
            "border": null,
            "bottom": null,
            "display": null,
            "flex": null,
            "flex_flow": null,
            "grid_area": null,
            "grid_auto_columns": null,
            "grid_auto_flow": null,
            "grid_auto_rows": null,
            "grid_column": null,
            "grid_gap": null,
            "grid_row": null,
            "grid_template_areas": null,
            "grid_template_columns": null,
            "grid_template_rows": null,
            "height": null,
            "justify_content": null,
            "justify_items": null,
            "left": null,
            "margin": null,
            "max_height": null,
            "max_width": null,
            "min_height": null,
            "min_width": null,
            "object_fit": null,
            "object_position": null,
            "order": null,
            "overflow": null,
            "overflow_x": null,
            "overflow_y": null,
            "padding": null,
            "right": null,
            "top": null,
            "visibility": null,
            "width": null
          }
        },
        "42bc84c0d2504bc1a5a6dad752f660ba": {
          "model_module": "@jupyter-widgets/controls",
          "model_name": "DescriptionStyleModel",
          "model_module_version": "1.5.0",
          "state": {
            "_model_module": "@jupyter-widgets/controls",
            "_model_module_version": "1.5.0",
            "_model_name": "DescriptionStyleModel",
            "_view_count": null,
            "_view_module": "@jupyter-widgets/base",
            "_view_module_version": "1.2.0",
            "_view_name": "StyleView",
            "description_width": ""
          }
        },
        "909b14027ce9442b83d34b2319cc1647": {
          "model_module": "@jupyter-widgets/base",
          "model_name": "LayoutModel",
          "model_module_version": "1.2.0",
          "state": {
            "_model_module": "@jupyter-widgets/base",
            "_model_module_version": "1.2.0",
            "_model_name": "LayoutModel",
            "_view_count": null,
            "_view_module": "@jupyter-widgets/base",
            "_view_module_version": "1.2.0",
            "_view_name": "LayoutView",
            "align_content": null,
            "align_items": null,
            "align_self": null,
            "border": null,
            "bottom": null,
            "display": null,
            "flex": null,
            "flex_flow": null,
            "grid_area": null,
            "grid_auto_columns": null,
            "grid_auto_flow": null,
            "grid_auto_rows": null,
            "grid_column": null,
            "grid_gap": null,
            "grid_row": null,
            "grid_template_areas": null,
            "grid_template_columns": null,
            "grid_template_rows": null,
            "height": null,
            "justify_content": null,
            "justify_items": null,
            "left": null,
            "margin": null,
            "max_height": null,
            "max_width": null,
            "min_height": null,
            "min_width": null,
            "object_fit": null,
            "object_position": null,
            "order": null,
            "overflow": null,
            "overflow_x": null,
            "overflow_y": null,
            "padding": null,
            "right": null,
            "top": null,
            "visibility": null,
            "width": null
          }
        },
        "04724d952d754b5ba27c7dafb976ffd5": {
          "model_module": "@jupyter-widgets/controls",
          "model_name": "ProgressStyleModel",
          "model_module_version": "1.5.0",
          "state": {
            "_model_module": "@jupyter-widgets/controls",
            "_model_module_version": "1.5.0",
            "_model_name": "ProgressStyleModel",
            "_view_count": null,
            "_view_module": "@jupyter-widgets/base",
            "_view_module_version": "1.2.0",
            "_view_name": "StyleView",
            "bar_color": null,
            "description_width": ""
          }
        },
        "6cee7e7d633b4c7886e3fc5a66c14d95": {
          "model_module": "@jupyter-widgets/base",
          "model_name": "LayoutModel",
          "model_module_version": "1.2.0",
          "state": {
            "_model_module": "@jupyter-widgets/base",
            "_model_module_version": "1.2.0",
            "_model_name": "LayoutModel",
            "_view_count": null,
            "_view_module": "@jupyter-widgets/base",
            "_view_module_version": "1.2.0",
            "_view_name": "LayoutView",
            "align_content": null,
            "align_items": null,
            "align_self": null,
            "border": null,
            "bottom": null,
            "display": null,
            "flex": null,
            "flex_flow": null,
            "grid_area": null,
            "grid_auto_columns": null,
            "grid_auto_flow": null,
            "grid_auto_rows": null,
            "grid_column": null,
            "grid_gap": null,
            "grid_row": null,
            "grid_template_areas": null,
            "grid_template_columns": null,
            "grid_template_rows": null,
            "height": null,
            "justify_content": null,
            "justify_items": null,
            "left": null,
            "margin": null,
            "max_height": null,
            "max_width": null,
            "min_height": null,
            "min_width": null,
            "object_fit": null,
            "object_position": null,
            "order": null,
            "overflow": null,
            "overflow_x": null,
            "overflow_y": null,
            "padding": null,
            "right": null,
            "top": null,
            "visibility": null,
            "width": null
          }
        },
        "f81560501e8f48948365d75380b13452": {
          "model_module": "@jupyter-widgets/controls",
          "model_name": "DescriptionStyleModel",
          "model_module_version": "1.5.0",
          "state": {
            "_model_module": "@jupyter-widgets/controls",
            "_model_module_version": "1.5.0",
            "_model_name": "DescriptionStyleModel",
            "_view_count": null,
            "_view_module": "@jupyter-widgets/base",
            "_view_module_version": "1.2.0",
            "_view_name": "StyleView",
            "description_width": ""
          }
        },
        "ca1037840a854da8b3f1c18faa3a0980": {
          "model_module": "@jupyter-widgets/controls",
          "model_name": "HBoxModel",
          "model_module_version": "1.5.0",
          "state": {
            "_dom_classes": [],
            "_model_module": "@jupyter-widgets/controls",
            "_model_module_version": "1.5.0",
            "_model_name": "HBoxModel",
            "_view_count": null,
            "_view_module": "@jupyter-widgets/controls",
            "_view_module_version": "1.5.0",
            "_view_name": "HBoxView",
            "box_style": "",
            "children": [
              "IPY_MODEL_af39726872c947f88af13dc5e8358ddb",
              "IPY_MODEL_e00cf909edc34b8985359b9280165771",
              "IPY_MODEL_68e3fa6b395041d39fe1ce7aafc9aa86"
            ],
            "layout": "IPY_MODEL_95b9bd0e74b342fabc6e5db517c98412"
          }
        },
        "af39726872c947f88af13dc5e8358ddb": {
          "model_module": "@jupyter-widgets/controls",
          "model_name": "HTMLModel",
          "model_module_version": "1.5.0",
          "state": {
            "_dom_classes": [],
            "_model_module": "@jupyter-widgets/controls",
            "_model_module_version": "1.5.0",
            "_model_name": "HTMLModel",
            "_view_count": null,
            "_view_module": "@jupyter-widgets/controls",
            "_view_module_version": "1.5.0",
            "_view_name": "HTMLView",
            "description": "",
            "description_tooltip": null,
            "layout": "IPY_MODEL_c099ae399aa744efa9ad0cca25eff994",
            "placeholder": "​",
            "style": "IPY_MODEL_78019aa0792f48119ed003acd7ff5cb0",
            "value": "100%"
          }
        },
        "e00cf909edc34b8985359b9280165771": {
          "model_module": "@jupyter-widgets/controls",
          "model_name": "FloatProgressModel",
          "model_module_version": "1.5.0",
          "state": {
            "_dom_classes": [],
            "_model_module": "@jupyter-widgets/controls",
            "_model_module_version": "1.5.0",
            "_model_name": "FloatProgressModel",
            "_view_count": null,
            "_view_module": "@jupyter-widgets/controls",
            "_view_module_version": "1.5.0",
            "_view_name": "ProgressView",
            "bar_style": "success",
            "description": "",
            "description_tooltip": null,
            "layout": "IPY_MODEL_2f4df1ab27dd4d37b784f103c5719b1c",
            "max": 313,
            "min": 0,
            "orientation": "horizontal",
            "style": "IPY_MODEL_55e6457e4b644e9fbd19182fc811fe86",
            "value": 313
          }
        },
        "68e3fa6b395041d39fe1ce7aafc9aa86": {
          "model_module": "@jupyter-widgets/controls",
          "model_name": "HTMLModel",
          "model_module_version": "1.5.0",
          "state": {
            "_dom_classes": [],
            "_model_module": "@jupyter-widgets/controls",
            "_model_module_version": "1.5.0",
            "_model_name": "HTMLModel",
            "_view_count": null,
            "_view_module": "@jupyter-widgets/controls",
            "_view_module_version": "1.5.0",
            "_view_name": "HTMLView",
            "description": "",
            "description_tooltip": null,
            "layout": "IPY_MODEL_41f300ad06244a889fcdb7c0ebff0612",
            "placeholder": "​",
            "style": "IPY_MODEL_8969aa7fa57f48cd82e33eab01226573",
            "value": " 313/313 [00:04&lt;00:00, 69.43it/s]"
          }
        },
        "95b9bd0e74b342fabc6e5db517c98412": {
          "model_module": "@jupyter-widgets/base",
          "model_name": "LayoutModel",
          "model_module_version": "1.2.0",
          "state": {
            "_model_module": "@jupyter-widgets/base",
            "_model_module_version": "1.2.0",
            "_model_name": "LayoutModel",
            "_view_count": null,
            "_view_module": "@jupyter-widgets/base",
            "_view_module_version": "1.2.0",
            "_view_name": "LayoutView",
            "align_content": null,
            "align_items": null,
            "align_self": null,
            "border": null,
            "bottom": null,
            "display": null,
            "flex": null,
            "flex_flow": null,
            "grid_area": null,
            "grid_auto_columns": null,
            "grid_auto_flow": null,
            "grid_auto_rows": null,
            "grid_column": null,
            "grid_gap": null,
            "grid_row": null,
            "grid_template_areas": null,
            "grid_template_columns": null,
            "grid_template_rows": null,
            "height": null,
            "justify_content": null,
            "justify_items": null,
            "left": null,
            "margin": null,
            "max_height": null,
            "max_width": null,
            "min_height": null,
            "min_width": null,
            "object_fit": null,
            "object_position": null,
            "order": null,
            "overflow": null,
            "overflow_x": null,
            "overflow_y": null,
            "padding": null,
            "right": null,
            "top": null,
            "visibility": null,
            "width": null
          }
        },
        "c099ae399aa744efa9ad0cca25eff994": {
          "model_module": "@jupyter-widgets/base",
          "model_name": "LayoutModel",
          "model_module_version": "1.2.0",
          "state": {
            "_model_module": "@jupyter-widgets/base",
            "_model_module_version": "1.2.0",
            "_model_name": "LayoutModel",
            "_view_count": null,
            "_view_module": "@jupyter-widgets/base",
            "_view_module_version": "1.2.0",
            "_view_name": "LayoutView",
            "align_content": null,
            "align_items": null,
            "align_self": null,
            "border": null,
            "bottom": null,
            "display": null,
            "flex": null,
            "flex_flow": null,
            "grid_area": null,
            "grid_auto_columns": null,
            "grid_auto_flow": null,
            "grid_auto_rows": null,
            "grid_column": null,
            "grid_gap": null,
            "grid_row": null,
            "grid_template_areas": null,
            "grid_template_columns": null,
            "grid_template_rows": null,
            "height": null,
            "justify_content": null,
            "justify_items": null,
            "left": null,
            "margin": null,
            "max_height": null,
            "max_width": null,
            "min_height": null,
            "min_width": null,
            "object_fit": null,
            "object_position": null,
            "order": null,
            "overflow": null,
            "overflow_x": null,
            "overflow_y": null,
            "padding": null,
            "right": null,
            "top": null,
            "visibility": null,
            "width": null
          }
        },
        "78019aa0792f48119ed003acd7ff5cb0": {
          "model_module": "@jupyter-widgets/controls",
          "model_name": "DescriptionStyleModel",
          "model_module_version": "1.5.0",
          "state": {
            "_model_module": "@jupyter-widgets/controls",
            "_model_module_version": "1.5.0",
            "_model_name": "DescriptionStyleModel",
            "_view_count": null,
            "_view_module": "@jupyter-widgets/base",
            "_view_module_version": "1.2.0",
            "_view_name": "StyleView",
            "description_width": ""
          }
        },
        "2f4df1ab27dd4d37b784f103c5719b1c": {
          "model_module": "@jupyter-widgets/base",
          "model_name": "LayoutModel",
          "model_module_version": "1.2.0",
          "state": {
            "_model_module": "@jupyter-widgets/base",
            "_model_module_version": "1.2.0",
            "_model_name": "LayoutModel",
            "_view_count": null,
            "_view_module": "@jupyter-widgets/base",
            "_view_module_version": "1.2.0",
            "_view_name": "LayoutView",
            "align_content": null,
            "align_items": null,
            "align_self": null,
            "border": null,
            "bottom": null,
            "display": null,
            "flex": null,
            "flex_flow": null,
            "grid_area": null,
            "grid_auto_columns": null,
            "grid_auto_flow": null,
            "grid_auto_rows": null,
            "grid_column": null,
            "grid_gap": null,
            "grid_row": null,
            "grid_template_areas": null,
            "grid_template_columns": null,
            "grid_template_rows": null,
            "height": null,
            "justify_content": null,
            "justify_items": null,
            "left": null,
            "margin": null,
            "max_height": null,
            "max_width": null,
            "min_height": null,
            "min_width": null,
            "object_fit": null,
            "object_position": null,
            "order": null,
            "overflow": null,
            "overflow_x": null,
            "overflow_y": null,
            "padding": null,
            "right": null,
            "top": null,
            "visibility": null,
            "width": null
          }
        },
        "55e6457e4b644e9fbd19182fc811fe86": {
          "model_module": "@jupyter-widgets/controls",
          "model_name": "ProgressStyleModel",
          "model_module_version": "1.5.0",
          "state": {
            "_model_module": "@jupyter-widgets/controls",
            "_model_module_version": "1.5.0",
            "_model_name": "ProgressStyleModel",
            "_view_count": null,
            "_view_module": "@jupyter-widgets/base",
            "_view_module_version": "1.2.0",
            "_view_name": "StyleView",
            "bar_color": null,
            "description_width": ""
          }
        },
        "41f300ad06244a889fcdb7c0ebff0612": {
          "model_module": "@jupyter-widgets/base",
          "model_name": "LayoutModel",
          "model_module_version": "1.2.0",
          "state": {
            "_model_module": "@jupyter-widgets/base",
            "_model_module_version": "1.2.0",
            "_model_name": "LayoutModel",
            "_view_count": null,
            "_view_module": "@jupyter-widgets/base",
            "_view_module_version": "1.2.0",
            "_view_name": "LayoutView",
            "align_content": null,
            "align_items": null,
            "align_self": null,
            "border": null,
            "bottom": null,
            "display": null,
            "flex": null,
            "flex_flow": null,
            "grid_area": null,
            "grid_auto_columns": null,
            "grid_auto_flow": null,
            "grid_auto_rows": null,
            "grid_column": null,
            "grid_gap": null,
            "grid_row": null,
            "grid_template_areas": null,
            "grid_template_columns": null,
            "grid_template_rows": null,
            "height": null,
            "justify_content": null,
            "justify_items": null,
            "left": null,
            "margin": null,
            "max_height": null,
            "max_width": null,
            "min_height": null,
            "min_width": null,
            "object_fit": null,
            "object_position": null,
            "order": null,
            "overflow": null,
            "overflow_x": null,
            "overflow_y": null,
            "padding": null,
            "right": null,
            "top": null,
            "visibility": null,
            "width": null
          }
        },
        "8969aa7fa57f48cd82e33eab01226573": {
          "model_module": "@jupyter-widgets/controls",
          "model_name": "DescriptionStyleModel",
          "model_module_version": "1.5.0",
          "state": {
            "_model_module": "@jupyter-widgets/controls",
            "_model_module_version": "1.5.0",
            "_model_name": "DescriptionStyleModel",
            "_view_count": null,
            "_view_module": "@jupyter-widgets/base",
            "_view_module_version": "1.2.0",
            "_view_name": "StyleView",
            "description_width": ""
          }
        }
      }
    }
  },
  "cells": [
    {
      "cell_type": "markdown",
      "metadata": {
        "id": "view-in-github",
        "colab_type": "text"
      },
      "source": [
        "<a href=\"https://colab.research.google.com/github/EbubeDelight/PyTorch_projects/blob/main/Ebube_03_pytorch_computer_vision_exercises.ipynb\" target=\"_parent\"><img src=\"https://colab.research.google.com/assets/colab-badge.svg\" alt=\"Open In Colab\"/></a>"
      ]
    },
    {
      "cell_type": "markdown",
      "source": [
        "# 03. PyTorch Computer Vision Exercises\n",
        "\n",
        "The following is a collection of exercises based on computer vision fundamentals in PyTorch.\n",
        "\n",
        "They're a bunch of fun.\n",
        "\n",
        "You're going to get to write plenty of code!\n",
        "\n",
        "## Resources\n",
        "\n",
        "1. These exercises are based on [notebook 03 of the Learn PyTorch for Deep Learning course](https://www.learnpytorch.io/03_pytorch_computer_vision/).\n",
        "2. See a live [walkthrough of the solutions (errors and all) on YouTube](https://youtu.be/_PibmqpEyhA).\n",
        "  * **Note:** Going through these exercises took me just over 3 hours of solid coding, so you should expect around the same.\n",
        "3. See [other solutions on the course GitHub](https://github.com/mrdbourke/pytorch-deep-learning/tree/main/extras/solutions)."
      ],
      "metadata": {
        "id": "Vex99np2wFVt"
      }
    },
    {
      "cell_type": "code",
      "source": [
        "# Check for GPU\n",
        "!nvidia-smi"
      ],
      "metadata": {
        "colab": {
          "base_uri": "https://localhost:8080/"
        },
        "id": "GaeYzOTLwWh2",
        "outputId": "dba95347-e9d8-42f4-e728-5aa0c7e885ef"
      },
      "execution_count": null,
      "outputs": [
        {
          "output_type": "stream",
          "name": "stdout",
          "text": [
            "/bin/bash: line 1: nvidia-smi: command not found\n"
          ]
        }
      ]
    },
    {
      "cell_type": "code",
      "source": [
        "# Import torch\n",
        "import torch\n",
        "\n",
        "# Exercises require PyTorch > 1.10.0\n",
        "print(torch.__version__)\n",
        "\n",
        "# TODO: Setup device agnostic code\n",
        "device = \"cuda\" if torch.cuda.is_available() else \"cpu\"\n",
        "print(device)"
      ],
      "metadata": {
        "colab": {
          "base_uri": "https://localhost:8080/"
        },
        "id": "DNwZLMbCzJLk",
        "outputId": "9d78d783-4931-437f-d072-a251c24bacf8"
      },
      "execution_count": null,
      "outputs": [
        {
          "output_type": "stream",
          "name": "stdout",
          "text": [
            "2.1.0+cu121\n",
            "cpu\n"
          ]
        }
      ]
    },
    {
      "cell_type": "markdown",
      "source": [
        "## 1. What are 3 areas in industry where computer vision is currently being used?"
      ],
      "metadata": {
        "id": "FSFX7tc1w-en"
      }
    },
    {
      "cell_type": "markdown",
      "source": [
        "### 1. Security and Surveillance\n",
        "* In security and surveillance, computer vision is a cornerstone technology, facilitating the real-time monitoring and analysis of video feeds. It excels at detecting and recognizing faces, identifying suspicious activities, and tracking objects or individuals of interest. This capability enhances situational awareness across various environments, from airports and public transportation hubs to retail stores and smart cities. Furthermore, computer vision algorithms contribute to automated threat detection, intrusion detection, and perimeter security, bolstering overall safety and security measures.\n",
        "\n",
        "### 2. Healthcare\n",
        "* ***Medical Image Analysis***: In healthcare, computer vision is pivotal for diagnosing and treating diseases through medical imaging analysis. It efficiently detects anomalies in X-rays, MRIs, and CT scans, and assists in surgical planning by accurately segmenting organs and tissues. Beyond diagnostics, it supports telemedicine by enabling remote consultations and facilitates the analysis of patient data through digital health platforms. Moreover, computer vision ensures compliance with safety protocols in healthcare facilities by monitoring practices like hand hygiene and PPE usage.\n",
        "\n",
        "### 3. Agriculture\n",
        "* In agriculture, computer vision revolutionizes tasks like crop monitoring, yield estimation, pest detection, and precision farming. Drones armed with computer vision cameras provide aerial views of farmland, empowering farmers to assess crop health, pinpoint irrigation needs, and detect diseases or pests. Furthermore, computer vision drives the development of autonomous agricultural machinery, streamlining operations such as planting, harvesting, and pesticide application.\n",
        "\n",
        "\n",
        "### 4. Autonomous Vehicles and Transportation\n",
        "* ***Autonomous Vehicles (AVs) and Advanced Driver-assistance Systems (ADAS):*** Computer vision is at the core of autonomous vehicles (AVs) and advanced driver-assistance systems (ADAS) in transportation. AVs depend on computer vision to analyze their environment, identifying pedestrians, cyclists, vehicles, and road signs. Similarly, ADAS functions like lane departure warning and collision avoidance utilize computer vision algorithms to bolster safety and refine driving experiences."
      ],
      "metadata": {
        "id": "qBZ4vy-DCjF4"
      }
    },
    {
      "cell_type": "markdown",
      "source": [
        "## 2. Search \"what is overfitting in machine learning\" and write down a sentence about what you find."
      ],
      "metadata": {
        "id": "oBK-WI6YxDYa"
      }
    },
    {
      "cell_type": "markdown",
      "source": [
        "Overfitting in machine learning occurs when a model captures noise or random fluctuations in the training data, leading to poor performance on new, unseen data."
      ],
      "metadata": {
        "id": "d1rxD6GObCqh"
      }
    },
    {
      "cell_type": "markdown",
      "source": [
        "## 3. Search \"ways to prevent overfitting in machine learning\", write down 3 of the things you find and a sentence about each.\n",
        "> **Note:** there are lots of these, so don't worry too much about all of them, just pick 3 and start with those.\n",
        "\n"
      ],
      "metadata": {
        "id": "XeYFEqw8xK26"
      }
    },
    {
      "cell_type": "markdown",
      "source": [
        "You can address overfitting through the following:\n",
        "\n",
        "* ***Model Simplification:*** Opt for simpler architectures or reduce parameters to prevent the model from capturing noise and irrelevant patterns in the data.\n",
        "\n",
        "* ***Regularization:*** Introduce penalties on model parameters through techniques like L1 (Lasso), L2 (Ridge), or dropout to discourage overly complex solutions and encourage better generalization.\n",
        "\n",
        "* ***Cross-Validation:*** Split the dataset into training, validation, and test sets, employing cross-validation techniques to evaluate model performance on different data subsets and ensure robustness.\n",
        "\n",
        "* ***Early Stopping:*** Monitor the model's performance on a validation set during training and halt training when performance begins to degrade, preventing overfitting by stopping the model from memorizing noise.\n",
        "\n",
        "* ***Data Augmentation:*** Expand the training dataset by applying transformations like rotation, translation, or cropping to the input data, increasing diversity and helping the model generalize better to new data."
      ],
      "metadata": {
        "id": "ocvOdWKcbEKr"
      }
    },
    {
      "cell_type": "markdown",
      "source": [
        "## 4. Spend 20-minutes reading and clicking through the [CNN Explainer website](https://poloclub.github.io/cnn-explainer/).\n",
        "\n",
        "* Upload your own example image using the \"upload\" button on the website and see what happens in each layer of a CNN as your image passes through it."
      ],
      "metadata": {
        "id": "DKdEEFEqxM-8"
      }
    },
    {
      "cell_type": "code",
      "source": [],
      "metadata": {
        "id": "TqZaJIRMbFtS"
      },
      "execution_count": null,
      "outputs": []
    },
    {
      "cell_type": "markdown",
      "source": [
        "## 5. Load the [`torchvision.datasets.MNIST()`](https://pytorch.org/vision/stable/generated/torchvision.datasets.MNIST.html#torchvision.datasets.MNIST) train and test datasets."
      ],
      "metadata": {
        "id": "lvf-3pODxXYI"
      }
    },
    {
      "cell_type": "code",
      "source": [
        "import torch\n",
        "from torch import nn\n",
        "\n",
        "import torchvision\n",
        "from torchvision import  datasets\n",
        "from torchvision import transforms\n",
        "from torchvision.transforms import ToTensor"
      ],
      "metadata": {
        "id": "SHjeuN81bHza"
      },
      "execution_count": null,
      "outputs": []
    },
    {
      "cell_type": "code",
      "source": [
        "train_data = datasets.MNIST(root= \"data\",\n",
        "                            train = True,\n",
        "                            transform = torchvision.transforms.ToTensor(),\n",
        "                            target_transform = None,\n",
        "                            download= True)\n",
        "\n",
        "test_data = datasets.MNIST(root= \"data\",\n",
        "                           train= False,\n",
        "                           transform= ToTensor(),\n",
        "                           target_transform= None,\n",
        "                           download= True)"
      ],
      "metadata": {
        "id": "BYyvMyTsaaxo"
      },
      "execution_count": null,
      "outputs": []
    },
    {
      "cell_type": "code",
      "source": [
        "print(f\"Length of train_data is: {len(train_data)} \\nLength of test_data is: {len(test_data)}\")"
      ],
      "metadata": {
        "colab": {
          "base_uri": "https://localhost:8080/"
        },
        "id": "TeH7pKjYcxxV",
        "outputId": "0d10ecda-7f16-4afe-abb1-0f57e8952e6b"
      },
      "execution_count": null,
      "outputs": [
        {
          "output_type": "stream",
          "name": "stdout",
          "text": [
            "Length of train_data is: 60000 \n",
            "Length of test_data is: 10000\n"
          ]
        }
      ]
    },
    {
      "cell_type": "markdown",
      "source": [
        "## 6. Visualize at least 5 different samples of the MNIST training dataset."
      ],
      "metadata": {
        "id": "qxZW-uAbxe_F"
      }
    },
    {
      "cell_type": "code",
      "source": [
        "# See the third training example\n",
        "image, label = train_data[2]\n",
        "image.shape, label"
      ],
      "metadata": {
        "id": "QVFsYi1PbItE",
        "colab": {
          "base_uri": "https://localhost:8080/"
        },
        "outputId": "4bcf6fd4-a905-4f90-fe02-5e3a3de1e3ef"
      },
      "execution_count": null,
      "outputs": [
        {
          "output_type": "execute_result",
          "data": {
            "text/plain": [
              "(torch.Size([1, 28, 28]), 4)"
            ]
          },
          "metadata": {},
          "execution_count": 6
        }
      ]
    },
    {
      "cell_type": "code",
      "source": [
        "class_names = train_data.classes\n",
        "class_to_idx = train_data.class_to_idx\n",
        "class_to_idx"
      ],
      "metadata": {
        "colab": {
          "base_uri": "https://localhost:8080/"
        },
        "id": "kbhim86lhvqV",
        "outputId": "c5f40c1e-269c-47de-8bce-e8f5e4c68cb7"
      },
      "execution_count": null,
      "outputs": [
        {
          "output_type": "execute_result",
          "data": {
            "text/plain": [
              "{'0 - zero': 0,\n",
              " '1 - one': 1,\n",
              " '2 - two': 2,\n",
              " '3 - three': 3,\n",
              " '4 - four': 4,\n",
              " '5 - five': 5,\n",
              " '6 - six': 6,\n",
              " '7 - seven': 7,\n",
              " '8 - eight': 8,\n",
              " '9 - nine': 9}"
            ]
          },
          "metadata": {},
          "execution_count": 7
        }
      ]
    },
    {
      "cell_type": "code",
      "source": [
        "# viewing only the tenth training example\n",
        "import matplotlib.pyplot as plt\n",
        "image, label = train_data[9]\n",
        "plt.imshow(image.squeeze(), cmap= \"gray\")\n",
        "plt.title(class_names[label])\n",
        "plt.axis(False)"
      ],
      "metadata": {
        "colab": {
          "base_uri": "https://localhost:8080/",
          "height": 445
        },
        "id": "Y_Dv-nlui5Wd",
        "outputId": "5c19dd20-14f0-479a-ab0a-e38354b717f7"
      },
      "execution_count": null,
      "outputs": [
        {
          "output_type": "execute_result",
          "data": {
            "text/plain": [
              "(-0.5, 27.5, 27.5, -0.5)"
            ]
          },
          "metadata": {},
          "execution_count": 8
        },
        {
          "output_type": "display_data",
          "data": {
            "text/plain": [
              "<Figure size 640x480 with 1 Axes>"
            ],
            "image/png": "[encoded data removed]"
          },
          "metadata": {}
        }
      ]
    },
    {
      "cell_type": "code",
      "source": [
        "# viewing 6 random training examples in a 3X2 matrix\n",
        "torch.manual_seed(777)\n",
        "fig= plt.figure(figsize= (8, 8))\n",
        "rows, cols = 5, 3\n",
        "for i in range(1, (rows*cols)):\n",
        "  random_index = torch.randint(0, len(train_data), size=[1]).item()\n",
        "  img, label = train_data[random_index]\n",
        "  fig.add_subplot(rows, cols, i)\n",
        "  plt.imshow(img.squeeze(), cmap=\"gray\")\n",
        "  plt.title(class_names[label])\n",
        "  plt.axis(False)"
      ],
      "metadata": {
        "colab": {
          "base_uri": "https://localhost:8080/",
          "height": 675
        },
        "id": "DGPzNqQ_mDgj",
        "outputId": "8b5ced43-28fc-49f2-8f79-2884b8310801"
      },
      "execution_count": null,
      "outputs": [
        {
          "output_type": "display_data",
          "data": {
            "text/plain": [
              "<Figure size 800x800 with 14 Axes>"
            ],
            "image/png": "[encoded data removed]"
          },
          "metadata": {}
        }
      ]
    },
    {
      "cell_type": "markdown",
      "source": [
        "## 7. Turn the MNIST train and test datasets into dataloaders using `torch.utils.data.DataLoader`, set the `batch_size=32`."
      ],
      "metadata": {
        "id": "JAPDzW0wxhi3"
      }
    },
    {
      "cell_type": "code",
      "source": [
        "# import Dataloader\n",
        "from torch.utils.data import DataLoader\n",
        "\n",
        "# Set up the batch size of the hyperparameter\n",
        "BATCH_SIZE = 32\n",
        "\n",
        "# Turn datasets to iterables (batches)\n",
        "train_dataloader = DataLoader(dataset= train_data,\n",
        "                              batch_size= BATCH_SIZE,\n",
        "                              shuffle= True)\n",
        "\n",
        "test_dataloader = DataLoader(dataset= test_data,\n",
        "                             batch_size= BATCH_SIZE,\n",
        "                             shuffle= False)\n",
        "\n",
        "train_dataloader, test_dataloader"
      ],
      "metadata": {
        "id": "ALA6MPcFbJXQ",
        "colab": {
          "base_uri": "https://localhost:8080/"
        },
        "outputId": "be22c7cf-8482-415b-96dd-9786c0b2a56b"
      },
      "execution_count": null,
      "outputs": [
        {
          "output_type": "execute_result",
          "data": {
            "text/plain": [
              "(<torch.utils.data.dataloader.DataLoader at 0x7a4286276ec0>,\n",
              " <torch.utils.data.dataloader.DataLoader at 0x7a42866beef0>)"
            ]
          },
          "metadata": {},
          "execution_count": 10
        }
      ]
    },
    {
      "cell_type": "markdown",
      "source": [
        "## 8. Recreate `model_2` used in notebook 03 (the same model from the [CNN Explainer website](https://poloclub.github.io/cnn-explainer/), also known as TinyVGG) capable of fitting on the MNIST dataset."
      ],
      "metadata": {
        "id": "bCCVfXk5xjYS"
      }
    },
    {
      "cell_type": "code",
      "source": [
        "# Creating the TinyVGG model\n",
        "class MNISTModel(nn.Module):\n",
        "  def __init__(self, input_shape: int, hidden_units: int, output_shape: int):\n",
        "    super().__init__()\n",
        "    self.conv_block_1 = nn.Sequential(\n",
        "        nn.Conv2d(in_channels= input_shape,\n",
        "                  out_channels= hidden_units,\n",
        "                  kernel_size= 3,\n",
        "                  stride= 1,\n",
        "                  padding= 1),\n",
        "        nn.ReLU(),\n",
        "        nn.Conv2d(in_channels= hidden_units,\n",
        "                  out_channels= hidden_units,\n",
        "                  kernel_size= 3,\n",
        "                  stride= 1,\n",
        "                  padding= 1),\n",
        "        nn.ReLU(),\n",
        "        nn.MaxPool2d(kernel_size= 2)\n",
        "    )\n",
        "    self.conv_block_2= nn.Sequential(\n",
        "        nn.Conv2d(in_channels= hidden_units,\n",
        "                  out_channels= hidden_units,\n",
        "                  kernel_size= 3,\n",
        "                  stride= 1,\n",
        "                  padding= 1),\n",
        "        nn.ReLU(),\n",
        "        nn.Conv2d(in_channels= hidden_units,\n",
        "                  out_channels= hidden_units,\n",
        "                  kernel_size= 3,\n",
        "                  stride= 1,\n",
        "                  padding= 1),\n",
        "        nn.ReLU(),\n",
        "        nn.MaxPool2d(kernel_size= 2)\n",
        "    )\n",
        "    self.classifier= nn.Sequential(\n",
        "        nn.Flatten(),\n",
        "        nn.Linear(hidden_units*7*7,\n",
        "                  output_shape)\n",
        "    )\n",
        "  def forward(self, x):\n",
        "    x = self.conv_block_1(x)\n",
        "    x = self.conv_block_2(x)\n",
        "    x = self.classifier(x)\n",
        "    return x\n"
      ],
      "metadata": {
        "id": "5IKNF22XbKYS"
      },
      "execution_count": null,
      "outputs": []
    },
    {
      "cell_type": "code",
      "source": [
        "image.shape"
      ],
      "metadata": {
        "colab": {
          "base_uri": "https://localhost:8080/"
        },
        "id": "l008beNzXMcR",
        "outputId": "c15c6f79-bbb7-4f6c-dad4-4b19b8bea4a4"
      },
      "execution_count": null,
      "outputs": [
        {
          "output_type": "execute_result",
          "data": {
            "text/plain": [
              "torch.Size([1, 28, 28])"
            ]
          },
          "metadata": {},
          "execution_count": 12
        }
      ]
    },
    {
      "cell_type": "code",
      "source": [
        "model_0 = MNISTModel(input_shape= 1,\n",
        "                     hidden_units = 10,\n",
        "                     output_shape= len(class_names)).to(device)\n",
        "model_0"
      ],
      "metadata": {
        "colab": {
          "base_uri": "https://localhost:8080/"
        },
        "id": "C96NIfWC-bnU",
        "outputId": "2205b0b2-998e-4045-e016-49c9361a8a88"
      },
      "execution_count": null,
      "outputs": [
        {
          "output_type": "execute_result",
          "data": {
            "text/plain": [
              "MNISTModel(\n",
              "  (conv_block_1): Sequential(\n",
              "    (0): Conv2d(1, 10, kernel_size=(3, 3), stride=(1, 1), padding=(1, 1))\n",
              "    (1): ReLU()\n",
              "    (2): Conv2d(10, 10, kernel_size=(3, 3), stride=(1, 1), padding=(1, 1))\n",
              "    (3): ReLU()\n",
              "    (4): MaxPool2d(kernel_size=2, stride=2, padding=0, dilation=1, ceil_mode=False)\n",
              "  )\n",
              "  (conv_block_2): Sequential(\n",
              "    (0): Conv2d(10, 10, kernel_size=(3, 3), stride=(1, 1), padding=(1, 1))\n",
              "    (1): ReLU()\n",
              "    (2): Conv2d(10, 10, kernel_size=(3, 3), stride=(1, 1), padding=(1, 1))\n",
              "    (3): ReLU()\n",
              "    (4): MaxPool2d(kernel_size=2, stride=2, padding=0, dilation=1, ceil_mode=False)\n",
              "  )\n",
              "  (classifier): Sequential(\n",
              "    (0): Flatten(start_dim=1, end_dim=-1)\n",
              "    (1): Linear(in_features=490, out_features=10, bias=True)\n",
              "  )\n",
              ")"
            ]
          },
          "metadata": {},
          "execution_count": 13
        }
      ]
    },
    {
      "cell_type": "markdown",
      "source": [
        "## 9. Train the model you built in exercise 8. for 5 epochs and see how long it takes on each."
      ],
      "metadata": {
        "id": "sf_3zUr7xlhy"
      }
    },
    {
      "cell_type": "code",
      "source": [
        "# Download helper_functions\n",
        "import requests\n",
        "from pathlib import Path\n",
        "\n",
        "# Download helper functions from Learn PyTorch repo\n",
        "if Path(\"helper_functions.py\").is_file():\n",
        " print(\"helper_functions.py already exists, skipping download...\")\n",
        "else:\n",
        "  print(\"Downloading helper_functions.py\")\n",
        "  request = requests.get(\"https://raw.githubusercontent.com/mrdbourke/pytorch-deep-learning/main/helper_functions.py\")\n",
        "  with open(\"helper_functions.py\", \"wb\") as f:\n",
        "    f.write(request.content)"
      ],
      "metadata": {
        "colab": {
          "base_uri": "https://localhost:8080/"
        },
        "id": "drmxriuQ9xC4",
        "outputId": "10230850-318d-4ea1-b311-61af776b75ae"
      },
      "execution_count": null,
      "outputs": [
        {
          "output_type": "stream",
          "name": "stdout",
          "text": [
            "helper_functions.py already exists, skipping download...\n"
          ]
        }
      ]
    },
    {
      "cell_type": "code",
      "source": [
        "# Setting up loss, optimizer and accuracy functions\n",
        "from helper_functions import accuracy_fn\n",
        "loss_fn= nn.CrossEntropyLoss()\n",
        "optimizer = torch.optim.SGD(params= model_0.parameters(),\n",
        "                            lr= 0.1)\n"
      ],
      "metadata": {
        "id": "jSo6vVWFbNLD"
      },
      "execution_count": null,
      "outputs": []
    },
    {
      "cell_type": "code",
      "source": [
        "from timeit import default_timer as timer\n",
        "def print_train_time(start: float,\n",
        "                     end: float,\n",
        "                     device: torch.device = None):\n",
        "  \"\"\" Prints difference between start and end time. \"\"\"\n",
        "  total_time = end - start\n",
        "  print(f\"Train time on {device}: {total_time: .3f} seconds\")\n",
        "  return total_time"
      ],
      "metadata": {
        "id": "3gb3P9TcnT0g"
      },
      "execution_count": null,
      "outputs": []
    },
    {
      "cell_type": "markdown",
      "source": [
        "#### 9.1 Functionizing the training and testing steps"
      ],
      "metadata": {
        "id": "Fvf_NTXYGMDs"
      }
    },
    {
      "cell_type": "code",
      "source": [
        "def train_step(model: torch.nn.Module,\n",
        "               data_loader: torch.utils.data.DataLoader,\n",
        "               loss_fn: torch.nn.Module,\n",
        "               optimizer: torch.optim.Optimizer,\n",
        "               accuracy_fn,\n",
        "               device: torch.device = device):\n",
        "\n",
        "  train_loss, train_acc = 0, 0\n",
        "\n",
        "  model.train()\n",
        "  for batch, (X, y) in enumerate(train_dataloader):\n",
        "    X, y= X.to(device), y.to(device)\n",
        "\n",
        "    # Forward pass\n",
        "    y_pred = model_0(X)\n",
        "\n",
        "    # 2. Calculate the  loss\n",
        "    loss = loss_fn(y_pred, y)\n",
        "    train_loss += loss # accumulate train loss\n",
        "    train_acc += accuracy_fn(y_true = y,\n",
        "                             y_pred = y_pred.argmax(dim=1))\n",
        "\n",
        "    # 3. Optimizer zero grad\n",
        "    optimizer.zero_grad()\n",
        "\n",
        "    # 4. Loss backward\n",
        "    loss.backward()\n",
        "\n",
        "    # 5. Optimizer step\n",
        "    optimizer.step()\n",
        "\n",
        "    # Print out what is going on\n",
        "    if batch % 400 == 0:\n",
        "      print(f\"Looked at {batch*len(X)}/ {len(train_dataloader.dataset)} samples\")\n",
        "  # Divide total train loss and accuracy by length of train dataloader\n",
        "  train_loss /= len(data_loader)\n",
        "  train_acc /= len(data_loader)\n",
        "  print(f\"Train loss: {train_loss:.5f} | Train acc: {train_acc:.2f}%\")"
      ],
      "metadata": {
        "id": "l-u9Ivys_Oi0"
      },
      "execution_count": null,
      "outputs": []
    },
    {
      "cell_type": "code",
      "source": [
        "### Testing\n",
        "def test_step(model: torch.nn.Module,\n",
        "              data_loader: torch.utils.data.DataLoader,\n",
        "              loss_fn: torch.nn.Module,\n",
        "              accuracy_fn,\n",
        "              device= device):\n",
        "  test_loss, test_acc = 0, 0\n",
        "\n",
        "  # Put model in eval mode\n",
        "  model.eval()\n",
        "\n",
        "  # Turn on inference mode\n",
        "  with torch.inference_mode():\n",
        "    for X, y in data_loader:\n",
        "      # Send data to target device\n",
        "      X, y = X.to(device), y.to(device)\n",
        "\n",
        "      # Forward Pass\n",
        "      test_pred = model(X)\n",
        "\n",
        "      # calculate loss and accuracy cumulatively\n",
        "      test_loss += loss_fn(test_pred, y)\n",
        "\n",
        "      test_acc += accuracy_fn(y_true= y, y_pred= test_pred.argmax(dim=1))\n",
        "\n",
        "\n",
        "    # Adjust metrics and print out\n",
        "    test_loss /= len(data_loader)\n",
        "    test_acc /= len(data_loader)\n",
        "    print(f\"Test loss: {test_loss:.5f} | Test acc: {test_acc:.2f}%\")\n",
        "\n"
      ],
      "metadata": {
        "id": "aMuwAMLIMBIO"
      },
      "execution_count": null,
      "outputs": []
    },
    {
      "cell_type": "code",
      "source": [
        "%%time\n",
        "torch.manual_seed(777)\n",
        "# Calculate the training time\n",
        "#from timeit import default_timer as timer\n",
        "from tqdm.auto import tqdm\n",
        "#train_time_start_on= timer\n",
        "\n",
        "# Set epochs\n",
        "epochs= 5\n",
        "\n",
        "# Creating an optimization and evaluation loop using the train_step and test_test functions creted above\n",
        "for epoch in tqdm (range(epochs)):\n",
        "  print(f\"Epoch: {epoch}\\------\")\n",
        "  train_step(model = model_0,\n",
        "             data_loader= train_dataloader,\n",
        "             loss_fn= loss_fn,\n",
        "             optimizer= optimizer,\n",
        "             accuracy_fn= accuracy_fn,\n",
        "             device = device)\n",
        "\n",
        "  test_step(model = model_0,\n",
        "            data_loader= test_dataloader,\n",
        "            loss_fn= loss_fn,\n",
        "            accuracy_fn= accuracy_fn,\n",
        "            device = device)\n",
        "#train_time_end_on= timer\n",
        "#total_train_time_model_0 = print_train_time(start = train_time_start_on,\n",
        "                                              #end = train_time_end_on,\n",
        "                                              #device = str(next(model_0.parameters()).device))"
      ],
      "metadata": {
        "id": "gwTyNSGFFidZ",
        "colab": {
          "base_uri": "https://localhost:8080/",
          "height": 778,
          "referenced_widgets": [
            "4f09ece68952484ca1618d068d5fbdb4",
            "528ec532de514ffaae0c47e436dc9fc0",
            "1a03d86dc2b1490cbb66eea7d4092100",
            "94a190e4098041f3819ace7bf91d4eed",
            "7ee481dbf134429e8a47e3ca42beb8a9",
            "0563fb6435654b8a9ee57ccf41261135",
            "c79043818f7b42f696bb26fc1be25dd4",
            "9978645f6d5f40dc99145bb4e8e1f0d6",
            "6df86739cd7b4355ba6978d5a8ca4269",
            "b1c6dba86aff4742b7ca2c43d6dd1abc",
            "b97c98471199442abf020bf6d5fdb8de"
          ]
        },
        "outputId": "236c2bbc-4c7e-48f0-d221-d6926fabe832"
      },
      "execution_count": null,
      "outputs": [
        {
          "output_type": "display_data",
          "data": {
            "text/plain": [
              "  0%|          | 0/5 [00:00<?, ?it/s]"
            ],
            "application/vnd.jupyter.widget-view+json": {
              "version_major": 2,
              "version_minor": 0,
              "model_id": "4f09ece68952484ca1618d068d5fbdb4"
            }
          },
          "metadata": {}
        },
        {
          "output_type": "stream",
          "name": "stdout",
          "text": [
            "Epoch: 0\\------\n",
            "Looked at 0/ 60000 samples\n",
            "Looked at 12800/ 60000 samples\n",
            "Looked at 25600/ 60000 samples\n",
            "Looked at 38400/ 60000 samples\n",
            "Looked at 51200/ 60000 samples\n",
            "Train loss: 0.26220 | Train acc: 91.18%\n",
            "Test loss: 0.11724 | Test acc: 96.52%\n",
            "Epoch: 1\\------\n",
            "Looked at 0/ 60000 samples\n",
            "Looked at 12800/ 60000 samples\n",
            "Looked at 25600/ 60000 samples\n",
            "Looked at 38400/ 60000 samples\n",
            "Looked at 51200/ 60000 samples\n",
            "Train loss: 0.07194 | Train acc: 97.75%\n",
            "Test loss: 0.05154 | Test acc: 98.35%\n",
            "Epoch: 2\\------\n",
            "Looked at 0/ 60000 samples\n",
            "Looked at 12800/ 60000 samples\n",
            "Looked at 25600/ 60000 samples\n",
            "Looked at 38400/ 60000 samples\n",
            "Looked at 51200/ 60000 samples\n",
            "Train loss: 0.05477 | Train acc: 98.36%\n",
            "Test loss: 0.04110 | Test acc: 98.67%\n",
            "Epoch: 3\\------\n",
            "Looked at 0/ 60000 samples\n",
            "Looked at 12800/ 60000 samples\n",
            "Looked at 25600/ 60000 samples\n",
            "Looked at 38400/ 60000 samples\n",
            "Looked at 51200/ 60000 samples\n",
            "Train loss: 0.04654 | Train acc: 98.60%\n",
            "Test loss: 0.03722 | Test acc: 98.70%\n",
            "Epoch: 4\\------\n",
            "Looked at 0/ 60000 samples\n",
            "Looked at 12800/ 60000 samples\n",
            "Looked at 25600/ 60000 samples\n",
            "Looked at 38400/ 60000 samples\n",
            "Looked at 51200/ 60000 samples\n",
            "Train loss: 0.04038 | Train acc: 98.81%\n",
            "Test loss: 0.04567 | Test acc: 98.60%\n",
            "CPU times: user 4min 46s, sys: 3.56 s, total: 4min 50s\n",
            "Wall time: 4min 55s\n"
          ]
        }
      ]
    },
    {
      "cell_type": "code",
      "source": [],
      "metadata": {
        "id": "yz0mG3JsEuil"
      },
      "execution_count": null,
      "outputs": []
    },
    {
      "cell_type": "markdown",
      "source": [
        "## 10. Make predictions using your trained model and visualize at least 5 of them comparing the prediciton to the target label."
      ],
      "metadata": {
        "id": "w1CsHhPpxp1w"
      }
    },
    {
      "cell_type": "code",
      "source": [
        "def make_predictions(model: torch.nn.Module,\n",
        "                     data: list,\n",
        "                     device: torch.device = device):\n",
        "  pred_probs = []\n",
        "  model.eval()\n",
        "  with torch.inference_mode():\n",
        "    for sample in data:\n",
        "      sample = torch.unsqueeze(sample, dim=0).to(device)\n",
        "\n",
        "      # Forward pass (model outputs raw logits)\n",
        "      pred_logit= model(sample)\n",
        "\n",
        "      pred_prob= torch.softmax(pred_logit.squeeze(), dim=0)\n",
        "\n",
        "      pred_probs.append(pred_prob)\n",
        "  # stack the pred_probs to turn list into a tensor\n",
        "  return torch.stack(pred_probs)"
      ],
      "metadata": {
        "id": "_YGgZvSobNxu"
      },
      "execution_count": null,
      "outputs": []
    },
    {
      "cell_type": "code",
      "source": [
        "import random\n",
        "# random.seed(777)\n",
        "test_samples = []\n",
        "test_labels = []\n",
        "for sample, label in random.sample(list(test_data), k=9):\n",
        "  test_samples.append(sample)\n",
        "  test_labels.append(label)\n",
        "\n",
        "# view the third sample shape\n",
        "test_samples[2].shape"
      ],
      "metadata": {
        "colab": {
          "base_uri": "https://localhost:8080/"
        },
        "id": "SwZaVZ04Z_S7",
        "outputId": "eb1e8203-7204-4fa7-f6b1-108d9d7c109a"
      },
      "execution_count": null,
      "outputs": [
        {
          "output_type": "execute_result",
          "data": {
            "text/plain": [
              "torch.Size([1, 28, 28])"
            ]
          },
          "metadata": {},
          "execution_count": 21
        }
      ]
    },
    {
      "cell_type": "code",
      "source": [
        "#plt.imshow(test_samples[2].squeeze(), cmap= \"gray\")\n",
        "#plt.title(class_names[test_labels[0]])"
      ],
      "metadata": {
        "id": "BeRvdeM3apiV"
      },
      "execution_count": null,
      "outputs": []
    },
    {
      "cell_type": "code",
      "source": [
        "pred_probs = make_predictions(model= model_0,\n",
        "                              data= test_samples)\n",
        "\n",
        "pred_probs[:5]"
      ],
      "metadata": {
        "colab": {
          "base_uri": "https://localhost:8080/"
        },
        "id": "VrN9ibMebWuL",
        "outputId": "4a75d1d0-8ee4-44a0-ddae-cd5dfb31db15"
      },
      "execution_count": null,
      "outputs": [
        {
          "output_type": "execute_result",
          "data": {
            "text/plain": [
              "tensor([[4.6185e-07, 9.9988e-01, 4.1324e-05, 3.1809e-06, 5.0454e-05, 9.0476e-09,\n",
              "         8.8712e-08, 2.4350e-05, 3.8206e-06, 1.8973e-08],\n",
              "        [1.1201e-08, 4.0595e-12, 9.1051e-10, 4.1682e-08, 9.5436e-05, 5.5400e-07,\n",
              "         4.7571e-11, 7.1621e-07, 1.5837e-05, 9.9989e-01],\n",
              "        [7.1060e-11, 4.7854e-09, 1.0000e+00, 9.1931e-07, 7.9199e-08, 4.3986e-11,\n",
              "         1.6210e-13, 6.0502e-09, 6.4021e-09, 7.0183e-11],\n",
              "        [1.3220e-07, 7.1604e-07, 9.2923e-08, 4.9844e-05, 4.9752e-02, 1.7034e-06,\n",
              "         1.6380e-10, 1.0300e-03, 1.7484e-04, 9.4899e-01],\n",
              "        [3.2922e-06, 2.9267e-09, 2.1868e-09, 1.0953e-03, 6.7765e-07, 9.9873e-01,\n",
              "         1.5484e-04, 2.0179e-10, 8.9190e-06, 4.4322e-06]])"
            ]
          },
          "metadata": {},
          "execution_count": 23
        }
      ]
    },
    {
      "cell_type": "code",
      "source": [
        "# Convert prediction probabilities to labels\n",
        "pred_classes = pred_probs.argmax(dim=1)\n",
        "pred_classes"
      ],
      "metadata": {
        "colab": {
          "base_uri": "https://localhost:8080/"
        },
        "id": "3kS0RdyQcD3Q",
        "outputId": "f0bed206-e0e8-4f89-87d2-07e5093ec9f5"
      },
      "execution_count": null,
      "outputs": [
        {
          "output_type": "execute_result",
          "data": {
            "text/plain": [
              "tensor([1, 9, 2, 9, 5, 0, 1, 6, 0])"
            ]
          },
          "metadata": {},
          "execution_count": 24
        }
      ]
    },
    {
      "cell_type": "code",
      "source": [
        "test_labels"
      ],
      "metadata": {
        "colab": {
          "base_uri": "https://localhost:8080/"
        },
        "id": "X5YN21_RcWVv",
        "outputId": "48faca9a-9f4f-451f-8dd9-7906c319ea1e"
      },
      "execution_count": null,
      "outputs": [
        {
          "output_type": "execute_result",
          "data": {
            "text/plain": [
              "[1, 9, 2, 9, 5, 0, 1, 6, 0]"
            ]
          },
          "metadata": {},
          "execution_count": 25
        }
      ]
    },
    {
      "cell_type": "code",
      "source": [
        "# Plot predictions\n",
        "plt.figure(figsize= (13,13))\n",
        "rows= 4\n",
        "cols = 4\n",
        "for i , sample in enumerate (test_samples):\n",
        "  plt.subplot(rows, cols, i+1)\n",
        "\n",
        "  # Plot the target image\n",
        "  plt.imshow(sample.squeeze(), cmap= \"gray\")\n",
        "\n",
        "  # Find the prediction label in textual form\n",
        "  pred_label = class_names[pred_classes[i]]\n",
        "\n",
        "  # Find the truth label in textual form\n",
        "  truth_label = class_names[test_labels[i]]\n",
        "\n",
        "  # Title of the plot\n",
        "  title_text = f\"Pred: {pred_label} | Truth: {truth_label}\"\n",
        "\n",
        "    # Check for equality between pred_label and truth_label and change color of title text\n",
        "  if pred_label == truth_label:\n",
        "    plt.title(title_text, fontsize=10, c=\"g\") # green text if prediction is same as truth\n",
        "  else:\n",
        "    plt.title(title_text, fontsize=10, c=\"r\") # red text if prediction is not same as truth\n",
        "  plt.axis(False)\n",
        "\n"
      ],
      "metadata": {
        "colab": {
          "base_uri": "https://localhost:8080/",
          "height": 796
        },
        "id": "0YDAkqWSgh2P",
        "outputId": "d296ceb5-c1f4-427f-af14-5c5c0ed3acb8"
      },
      "execution_count": null,
      "outputs": [
        {
          "output_type": "display_data",
          "data": {
            "text/plain": [
              "<Figure size 1300x1300 with 9 Axes>"
            ],
            "image/png": "[encoded data removed]"
          },
          "metadata": {}
        }
      ]
    },
    {
      "cell_type": "markdown",
      "source": [
        "## 11. Plot a confusion matrix comparing your model's predictions to the truth labels."
      ],
      "metadata": {
        "id": "qQwzqlBWxrpG"
      }
    },
    {
      "cell_type": "code",
      "source": [
        "# import tqdm.auto\n",
        "from tqdm.auto import tqdm\n",
        "\n",
        "# 1. Make predictions with trained model\n",
        "y_preds= []\n",
        "model_0.eval()\n",
        "with torch.inference_mode():\n",
        "  for X, y in tqdm(test_dataloader, desc= \"Making predictions...\"):\n",
        "    # Send the data and targets to target device\n",
        "    X, y = X.to(device), y.to(device)\n",
        "    # do the forward pass\n",
        "    y_logits = model_0(X)\n",
        "    # Turn predictions from logits -> prediction probabilities -> prediction labels\n",
        "    y_pred = torch.softmax(y_logits.squeeze(), dim=0). argmax(dim=1)\n",
        "    # Put prediction on CPU for evaluation\n",
        "    y_preds.append(y_pred.cpu())\n",
        "\n",
        "# Concatenate list of predictions into a tensor\n",
        "# print(y_preds)\n",
        "y_pred_tensor = torch.cat(y_preds)\n",
        "y_pred_tensor[:10]"
      ],
      "metadata": {
        "id": "vSrXiT_AbQ6e",
        "colab": {
          "base_uri": "https://localhost:8080/",
          "height": 66,
          "referenced_widgets": [
            "04b175927c13415dbd0a54b7bb6df518",
            "09a1a2595b8945faabf3f057aeaf46ec",
            "e04ffa169d2e4a1cbc6b1d0670c3ae06",
            "c39b4aeaba6c4581a1c8e819403d7dc0",
            "e8a434c3209648b6956a4989f25b39c5",
            "89161c71c5fa492894498fb91017bdc0",
            "d132b28bb63844869287d47eafcbdb7c",
            "98c93f59243b48c9bf3b19998881a250",
            "82580b8d43334b308f53e805240a6a80",
            "385766e1aa01450baa303c7bf73941e9",
            "9c70839736d1480691f1a565770df30a"
          ]
        },
        "outputId": "8305470b-794a-46f3-f1ae-c68d7e363e2a"
      },
      "execution_count": null,
      "outputs": [
        {
          "output_type": "display_data",
          "data": {
            "text/plain": [
              "Making predictions...:   0%|          | 0/313 [00:00<?, ?it/s]"
            ],
            "application/vnd.jupyter.widget-view+json": {
              "version_major": 2,
              "version_minor": 0,
              "model_id": "04b175927c13415dbd0a54b7bb6df518"
            }
          },
          "metadata": {}
        },
        {
          "output_type": "execute_result",
          "data": {
            "text/plain": [
              "tensor([7, 2, 1, 0, 4, 1, 8, 9, 8, 9])"
            ]
          },
          "metadata": {},
          "execution_count": 27
        }
      ]
    },
    {
      "cell_type": "code",
      "source": [
        "len(y_pred_tensor)"
      ],
      "metadata": {
        "colab": {
          "base_uri": "https://localhost:8080/"
        },
        "id": "CqwIn6C4uTAK",
        "outputId": "00052666-3f16-4ed8-9db7-113b46aaf149"
      },
      "execution_count": null,
      "outputs": [
        {
          "output_type": "execute_result",
          "data": {
            "text/plain": [
              "10000"
            ]
          },
          "metadata": {},
          "execution_count": 28
        }
      ]
    },
    {
      "cell_type": "code",
      "source": [
        "# See if torchmetrics exists, if not, install it\n",
        "try:\n",
        "    import torchmetrics, mlxtend\n",
        "    print(f\"mlxtend version: {mlxtend.__version__}\")\n",
        "    assert int(mlxtend.__version__.split(\".\")[1]) >= 19, \"mlxtend verison should be 0.19.0 or higher\"\n",
        "except:\n",
        "    !pip install -q torchmetrics -U mlxtend # <- Note: If you're using Google Colab, this may require restarting the runtime\n",
        "    import torchmetrics, mlxtend\n",
        "    print(f\"mlxtend version: {mlxtend.__version__}\")"
      ],
      "metadata": {
        "colab": {
          "base_uri": "https://localhost:8080/"
        },
        "id": "53qmX91NwbAq",
        "outputId": "15718dae-4d62-477a-e51c-ab92138384cd"
      },
      "execution_count": null,
      "outputs": [
        {
          "output_type": "stream",
          "name": "stdout",
          "text": [
            "mlxtend version: 0.23.1\n"
          ]
        }
      ]
    },
    {
      "cell_type": "code",
      "source": [
        "import mlxtend\n",
        "from torchmetrics import ConfusionMatrix\n",
        "from mlxtend.plotting import plot_confusion_matrix\n",
        "\n",
        "# 2. Setup cconfusion instance and compare predictions to targets\n",
        "confmat = ConfusionMatrix(num_classes = len(class_names),  task='multiclass')\n",
        "confmat_tensor = confmat(preds= y_pred_tensor,\n",
        "                         target =test_data.targets)\n",
        "\n",
        "# 3. Plot the confusion matrix\n",
        "fig, ax = plot_confusion_matrix(\n",
        "    conf_mat = confmat_tensor.numpy(), # matploblib works with numpy\n",
        "    figsize = (10,7)\n",
        ")"
      ],
      "metadata": {
        "colab": {
          "base_uri": "https://localhost:8080/",
          "height": 619
        },
        "id": "5apI1mI-u5wH",
        "outputId": "6f67f7b4-18af-446a-be1e-89c63fb825cb"
      },
      "execution_count": null,
      "outputs": [
        {
          "output_type": "display_data",
          "data": {
            "text/plain": [
              "<Figure size 1000x700 with 1 Axes>"
            ],
            "image/png": "[encoded data removed]"
          },
          "metadata": {}
        }
      ]
    },
    {
      "cell_type": "markdown",
      "source": [
        "## 12. Create a random tensor of shape `[1, 3, 64, 64]` and pass it through a `nn.Conv2d()` layer with various hyperparameter settings (these can be any settings you choose), what do you notice if the `kernel_size` parameter goes up and down?"
      ],
      "metadata": {
        "id": "lj6bDhoWxt2y"
      }
    },
    {
      "cell_type": "code",
      "source": [
        "random_tensor = torch.rand([1, 3, 64, 64])\n",
        "random_tensor.shape"
      ],
      "metadata": {
        "id": "leCTsqtSbR5P",
        "colab": {
          "base_uri": "https://localhost:8080/"
        },
        "outputId": "65331868-4d72-497d-8d19-bc9c842c5273"
      },
      "execution_count": null,
      "outputs": [
        {
          "output_type": "execute_result",
          "data": {
            "text/plain": [
              "torch.Size([1, 3, 64, 64])"
            ]
          },
          "metadata": {},
          "execution_count": 31
        }
      ]
    },
    {
      "cell_type": "code",
      "source": [
        "conv_layer = nn.Conv2d(in_channels=3,\n",
        "                       out_channels=64,\n",
        "                       kernel_size=3,\n",
        "                       stride=2,\n",
        "                       padding=1)\n",
        "\n",
        "print(f\"Random tensor original shape: {random_tensor.shape}\")\n",
        "random_tensor_through_conv_layer = conv_layer(random_tensor)\n",
        "print(f\"Random tensor through conv layer shape: {random_tensor_through_conv_layer.shape}\")"
      ],
      "metadata": {
        "colab": {
          "base_uri": "https://localhost:8080/"
        },
        "id": "lIdrbqaZzVyh",
        "outputId": "3d23f34b-0f18-4784-b774-b24bf70af8dd"
      },
      "execution_count": null,
      "outputs": [
        {
          "output_type": "stream",
          "name": "stdout",
          "text": [
            "Random tensor original shape: torch.Size([1, 3, 64, 64])\n",
            "Random tensor through conv layer shape: torch.Size([1, 64, 32, 32])\n"
          ]
        }
      ]
    },
    {
      "cell_type": "markdown",
      "source": [
        "## 13. Use a model similar to the trained `model_2` from notebook 03 to make predictions on the test [`torchvision.datasets.FashionMNIST`](https://pytorch.org/vision/main/generated/torchvision.datasets.FashionMNIST.html) dataset.\n",
        "* Then plot some predictions where the model was wrong alongside what the label of the image should've been.\n",
        "* After visualing these predictions do you think it's more of a modelling error or a data error?\n",
        "* As in, could the model do better or are the labels of the data too close to each other (e.g. a \"Shirt\" label is too close to \"T-shirt/top\")?"
      ],
      "metadata": {
        "id": "VHS20cNTxwSi"
      }
    },
    {
      "cell_type": "code",
      "source": [
        "# Download FashionMNIST train & test\n",
        "from torchvision import datasets\n",
        "from torchvision import transforms\n",
        "\n",
        "fashion_mnist_train = datasets.FashionMNIST(root=\".\",\n",
        "                                            download=True,\n",
        "                                            train=True,\n",
        "                                            transform=transforms.ToTensor())\n",
        "\n",
        "fashion_mnist_test = datasets.FashionMNIST(root=\".\",\n",
        "                                           train=False,\n",
        "                                           download=True,\n",
        "                                           transform=transforms.ToTensor())\n",
        "\n",
        "len(fashion_mnist_train), len(fashion_mnist_test)"
      ],
      "metadata": {
        "id": "78a8LjtdbSZj",
        "colab": {
          "base_uri": "https://localhost:8080/"
        },
        "outputId": "76baab35-7e58-4839-ef20-f898f70ffe7c"
      },
      "execution_count": null,
      "outputs": [
        {
          "output_type": "execute_result",
          "data": {
            "text/plain": [
              "(60000, 10000)"
            ]
          },
          "metadata": {},
          "execution_count": 33
        }
      ]
    },
    {
      "cell_type": "code",
      "source": [
        "# Get the class names of the Fashion MNIST dataset\n",
        "fashion_mnist_class_names = fashion_mnist_train.classes\n",
        "fashion_mnist_class_names"
      ],
      "metadata": {
        "colab": {
          "base_uri": "https://localhost:8080/"
        },
        "id": "pnpfhouE8TCm",
        "outputId": "6f52981d-5e81-4ad3-88ca-0dc3b3b05693"
      },
      "execution_count": null,
      "outputs": [
        {
          "output_type": "execute_result",
          "data": {
            "text/plain": [
              "['T-shirt/top',\n",
              " 'Trouser',\n",
              " 'Pullover',\n",
              " 'Dress',\n",
              " 'Coat',\n",
              " 'Sandal',\n",
              " 'Shirt',\n",
              " 'Sneaker',\n",
              " 'Bag',\n",
              " 'Ankle boot']"
            ]
          },
          "metadata": {},
          "execution_count": 34
        }
      ]
    },
    {
      "cell_type": "code",
      "source": [
        "# Turn FashionMNIST datasets into dataloaders\n",
        "from torch.utils.data import DataLoader\n",
        "\n",
        "fashion_mnist_train_dataloader = DataLoader(fashion_mnist_train,\n",
        "                                            batch_size=32,\n",
        "                                            shuffle=True)\n",
        "\n",
        "fashion_mnist_test_dataloader = DataLoader(fashion_mnist_test,\n",
        "                                           batch_size=32,\n",
        "                                           shuffle=False)\n",
        "\n",
        "len(fashion_mnist_train_dataloader), len(fashion_mnist_test_dataloader)"
      ],
      "metadata": {
        "colab": {
          "base_uri": "https://localhost:8080/"
        },
        "id": "Q_Vo1-uP8azK",
        "outputId": "68f26b59-6fe0-4fcf-9dfc-d445d4049824"
      },
      "execution_count": null,
      "outputs": [
        {
          "output_type": "execute_result",
          "data": {
            "text/plain": [
              "(1875, 313)"
            ]
          },
          "metadata": {},
          "execution_count": 35
        }
      ]
    },
    {
      "cell_type": "code",
      "source": [
        "# model_2 is the same architecture as MNIST_model\n",
        "model_1 = MNISTModel(input_shape=1,\n",
        "                      hidden_units=10,\n",
        "                      output_shape=10).to(device)\n",
        "model_1"
      ],
      "metadata": {
        "colab": {
          "base_uri": "https://localhost:8080/"
        },
        "id": "YudjaeYA8gRG",
        "outputId": "fd13c0cb-912c-47af-d5f9-e5805b050684"
      },
      "execution_count": null,
      "outputs": [
        {
          "output_type": "execute_result",
          "data": {
            "text/plain": [
              "MNISTModel(\n",
              "  (conv_block_1): Sequential(\n",
              "    (0): Conv2d(1, 10, kernel_size=(3, 3), stride=(1, 1), padding=(1, 1))\n",
              "    (1): ReLU()\n",
              "    (2): Conv2d(10, 10, kernel_size=(3, 3), stride=(1, 1), padding=(1, 1))\n",
              "    (3): ReLU()\n",
              "    (4): MaxPool2d(kernel_size=2, stride=2, padding=0, dilation=1, ceil_mode=False)\n",
              "  )\n",
              "  (conv_block_2): Sequential(\n",
              "    (0): Conv2d(10, 10, kernel_size=(3, 3), stride=(1, 1), padding=(1, 1))\n",
              "    (1): ReLU()\n",
              "    (2): Conv2d(10, 10, kernel_size=(3, 3), stride=(1, 1), padding=(1, 1))\n",
              "    (3): ReLU()\n",
              "    (4): MaxPool2d(kernel_size=2, stride=2, padding=0, dilation=1, ceil_mode=False)\n",
              "  )\n",
              "  (classifier): Sequential(\n",
              "    (0): Flatten(start_dim=1, end_dim=-1)\n",
              "    (1): Linear(in_features=490, out_features=10, bias=True)\n",
              "  )\n",
              ")"
            ]
          },
          "metadata": {},
          "execution_count": 36
        }
      ]
    },
    {
      "cell_type": "code",
      "source": [
        "# Setup loss and optimizer\n",
        "from torch import nn\n",
        "loss_fn = nn.CrossEntropyLoss()\n",
        "optimizer = torch.optim.SGD(model_1.parameters(), lr=0.01)"
      ],
      "metadata": {
        "id": "dxjH8F6c8pjf"
      },
      "execution_count": null,
      "outputs": []
    },
    {
      "cell_type": "code",
      "source": [
        "# Setup metrics\n",
        "from tqdm.auto import tqdm\n",
        "from torchmetrics import Accuracy\n",
        "\n",
        "acc_fn = Accuracy(task=\"multiclass\", num_classes=len(fashion_mnist_class_names)).to(device)\n",
        "\n",
        "# Setup training/testing loop\n",
        "epochs = 5\n",
        "for epoch in tqdm(range(epochs)):\n",
        "  train_loss, test_loss_total = 0, 0\n",
        "  train_acc, test_acc = 0, 0\n",
        "\n",
        "  ### Training\n",
        "  model_1.train()\n",
        "  for batch, (X_train, y_train) in enumerate(fashion_mnist_train_dataloader):\n",
        "    X_train, y_train = X_train.to(device), y_train.to(device)\n",
        "\n",
        "    # Forward pass and loss\n",
        "    y_pred = model_1(X_train)\n",
        "    loss = loss_fn(y_pred, y_train)\n",
        "    train_loss += loss\n",
        "    train_acc += acc_fn(y_pred, y_train)\n",
        "\n",
        "    # Backprop and gradient descent\n",
        "    optimizer.zero_grad()\n",
        "    loss.backward()\n",
        "    optimizer.step()\n",
        "\n",
        "  # Adjust the loss/acc (find the loss/acc per epoch)\n",
        "  train_loss /= len(fashion_mnist_train_dataloader)\n",
        "  train_acc /= len(fashion_mnist_train_dataloader)\n",
        "\n",
        "  ### Testing\n",
        "  model_1.eval()\n",
        "  with torch.inference_mode():\n",
        "    for batch, (X_test, y_test) in enumerate(fashion_mnist_test_dataloader):\n",
        "      X_test, y_test = X_test.to(device), y_test.to(device)\n",
        "\n",
        "      # Forward pass and loss\n",
        "      y_pred_test = model_1(X_test)\n",
        "      test_loss = loss_fn(y_pred_test, y_test)\n",
        "      test_loss_total += test_loss\n",
        "\n",
        "      test_acc += acc_fn(y_pred_test, y_test)\n",
        "\n",
        "    # Adjust the loss/acc (find the loss/acc per epoch)\n",
        "    test_loss /= len(fashion_mnist_test_dataloader)\n",
        "    test_acc /= len(fashion_mnist_test_dataloader)\n",
        "\n",
        "  # Print out what's happening\n",
        "  print(f\"Epoch: {epoch} | Train loss: {train_loss:.3f} | Train acc: {train_acc:.2f} | Test loss: {test_loss_total:.3f} | Test acc: {test_acc:.2f}\")"
      ],
      "metadata": {
        "colab": {
          "base_uri": "https://localhost:8080/",
          "height": 136,
          "referenced_widgets": [
            "b811d86acb0348eaabb4f51939b69433",
            "92d6e4f90f234e25a6e796c04aa793d7",
            "16dd800330e54634adfdb476d89b2515",
            "5912178b8673400b9306feb56c8a21f9",
            "672ed272388846e6a0eb2e129c1690cd",
            "60e9e924e5f2447a8c3f3ef61e88f237",
            "42bc84c0d2504bc1a5a6dad752f660ba",
            "909b14027ce9442b83d34b2319cc1647",
            "04724d952d754b5ba27c7dafb976ffd5",
            "6cee7e7d633b4c7886e3fc5a66c14d95",
            "f81560501e8f48948365d75380b13452"
          ]
        },
        "id": "ELA4UxZ88vUh",
        "outputId": "7c1f7f2e-6c1b-4f38-d8b1-d76dc7bb4c9c"
      },
      "execution_count": null,
      "outputs": [
        {
          "output_type": "display_data",
          "data": {
            "text/plain": [
              "  0%|          | 0/5 [00:00<?, ?it/s]"
            ],
            "application/vnd.jupyter.widget-view+json": {
              "version_major": 2,
              "version_minor": 0,
              "model_id": "b811d86acb0348eaabb4f51939b69433"
            }
          },
          "metadata": {}
        },
        {
          "output_type": "stream",
          "name": "stdout",
          "text": [
            "Epoch: 0 | Train loss: 1.308 | Train acc: 0.52 | Test loss: 213.038 | Test acc: 0.73\n",
            "Epoch: 1 | Train loss: 0.520 | Train acc: 0.81 | Test loss: 168.657 | Test acc: 0.80\n",
            "Epoch: 2 | Train loss: 0.429 | Train acc: 0.85 | Test loss: 136.578 | Test acc: 0.85\n",
            "Epoch: 3 | Train loss: 0.393 | Train acc: 0.86 | Test loss: 121.705 | Test acc: 0.86\n",
            "Epoch: 4 | Train loss: 0.367 | Train acc: 0.87 | Test loss: 125.836 | Test acc: 0.85\n"
          ]
        }
      ]
    },
    {
      "cell_type": "code",
      "source": [
        "# Make predictions with trained model_2\n",
        "test_preds = []\n",
        "model_1.eval()\n",
        "with torch.inference_mode():\n",
        "  for X_test, y_test in tqdm(fashion_mnist_test_dataloader):\n",
        "    y_logits = model_1(X_test.to(device))\n",
        "    y_pred_probs = torch.softmax(y_logits, dim=1)\n",
        "    y_pred_labels = torch.argmax(y_pred_probs, dim=1)\n",
        "    test_preds.append(y_pred_labels)\n",
        "test_preds = torch.cat(test_preds).cpu() # matplotlib likes CPU\n",
        "test_preds[:10], len(test_preds)"
      ],
      "metadata": {
        "colab": {
          "base_uri": "https://localhost:8080/",
          "height": 66,
          "referenced_widgets": [
            "ca1037840a854da8b3f1c18faa3a0980",
            "af39726872c947f88af13dc5e8358ddb",
            "e00cf909edc34b8985359b9280165771",
            "68e3fa6b395041d39fe1ce7aafc9aa86",
            "95b9bd0e74b342fabc6e5db517c98412",
            "c099ae399aa744efa9ad0cca25eff994",
            "78019aa0792f48119ed003acd7ff5cb0",
            "2f4df1ab27dd4d37b784f103c5719b1c",
            "55e6457e4b644e9fbd19182fc811fe86",
            "41f300ad06244a889fcdb7c0ebff0612",
            "8969aa7fa57f48cd82e33eab01226573"
          ]
        },
        "id": "49d_BrP_ChMu",
        "outputId": "3d9d93f6-453c-4d19-f053-eb27e927e479"
      },
      "execution_count": null,
      "outputs": [
        {
          "output_type": "display_data",
          "data": {
            "text/plain": [
              "  0%|          | 0/313 [00:00<?, ?it/s]"
            ],
            "application/vnd.jupyter.widget-view+json": {
              "version_major": 2,
              "version_minor": 0,
              "model_id": "ca1037840a854da8b3f1c18faa3a0980"
            }
          },
          "metadata": {}
        },
        {
          "output_type": "execute_result",
          "data": {
            "text/plain": [
              "(tensor([9, 2, 1, 1, 6, 1, 4, 6, 5, 7]), 10000)"
            ]
          },
          "metadata": {},
          "execution_count": 45
        }
      ]
    },
    {
      "cell_type": "code",
      "source": [
        "# Get wrong prediction indexes\n",
        "import numpy as np\n",
        "wrong_pred_indexes = np.where(test_preds != fashion_mnist_test.targets)[0]\n",
        "print(wrong_pred_indexes)\n",
        "len(wrong_pred_indexes)"
      ],
      "metadata": {
        "colab": {
          "base_uri": "https://localhost:8080/"
        },
        "id": "Ad1xKm3zCpeg",
        "outputId": "81d6c355-0ec3-4cd5-8113-0236b3bd3ebd"
      },
      "execution_count": null,
      "outputs": [
        {
          "output_type": "stream",
          "name": "stdout",
          "text": [
            "[  12   21   23 ... 9979 9985 9991]\n"
          ]
        },
        {
          "output_type": "execute_result",
          "data": {
            "text/plain": [
              "1479"
            ]
          },
          "metadata": {},
          "execution_count": 46
        }
      ]
    },
    {
      "cell_type": "code",
      "source": [
        "# Select random 9 wrong predictions and plot them\n",
        "import random\n",
        "random_selection = random.sample(list(wrong_pred_indexes), k=25)\n",
        "\n",
        "plt.figure(figsize=(15, 15))\n",
        "for i, idx in enumerate(random_selection):\n",
        "  # Get true and pred labels\n",
        "  true_label = fashion_mnist_class_names[fashion_mnist_test[idx][1]]\n",
        "  pred_label = fashion_mnist_class_names[test_preds[idx]]\n",
        "\n",
        "  # Plot the wrong prediction with its original label\n",
        "  plt.subplot(5, 5, i+1)\n",
        "  plt.imshow(fashion_mnist_test[idx][0].squeeze(), cmap=\"gray\")\n",
        "  plt.title(f\"True: {true_label} | Pred: {pred_label}\", c=\"r\")\n",
        "  plt.axis(False);"
      ],
      "metadata": {
        "colab": {
          "base_uri": "https://localhost:8080/",
          "height": 1000
        },
        "id": "kARdmIOQDNHN",
        "outputId": "036dc383-7b1f-4139-f862-af39bc14d851"
      },
      "execution_count": null,
      "outputs": [
        {
          "output_type": "display_data",
          "data": {
            "text/plain": [
              "<Figure size 1500x1500 with 25 Axes>"
            ],
            "image/png": "[encoded data removed]"
          },
          "metadata": {}
        }
      ]
    },
    {
      "cell_type": "markdown",
      "source": [
        "\n",
        "Considering the visual represntations of the images and their labels, I would say the error is due to both data and modelling error.\n",
        "\n",
        "* Data error: This is firstly because of confusing labelling (eg. T-shirt/ top and t-shirt) and overlapping of the physical features of some of the items (eg. Pullover and Long-sleeve T-shirt).\n",
        "* Modelling error: The model acted confused at some point. For example: by predicting an item that is clearly identifiable (by physical features and label) as a Sneaker to be a Sandal."
      ],
      "metadata": {
        "id": "_ixghht6ZQMs"
      }
    }
  ]
}